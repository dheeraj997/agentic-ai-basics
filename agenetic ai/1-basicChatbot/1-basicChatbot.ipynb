{
 "cells": [
  {
   "cell_type": "code",
   "execution_count": 76,
   "id": "a6958781",
   "metadata": {},
   "outputs": [],
   "source": [
    "###basic chat bot with langgraph(graph api)"
   ]
  },
  {
   "cell_type": "code",
   "execution_count": 77,
   "id": "d890c52e",
   "metadata": {},
   "outputs": [],
   "source": [
    "from typing import Annotated\n",
    "\n",
    "from typing_extensions import TypedDict\n",
    "\n",
    "from langgraph.graph import StateGraph,START,END\n",
    "from langgraph.graph.message import add_messages\n",
    "\n"
   ]
  },
  {
   "cell_type": "code",
   "execution_count": 78,
   "id": "9407604d",
   "metadata": {},
   "outputs": [],
   "source": [
    "class State(TypedDict):\n",
    "\n",
    "    messages:Annotated[list,add_messages]\n",
    "\n",
    "graph_builder=StateGraph(State)"
   ]
  },
  {
   "cell_type": "code",
   "execution_count": 79,
   "id": "417c1ad9",
   "metadata": {},
   "outputs": [
    {
     "data": {
      "text/plain": [
       "<langgraph.graph.state.StateGraph at 0x15edc281510>"
      ]
     },
     "execution_count": 79,
     "metadata": {},
     "output_type": "execute_result"
    }
   ],
   "source": [
    "graph_builder"
   ]
  },
  {
   "cell_type": "code",
   "execution_count": 1,
   "id": "53536137",
   "metadata": {},
   "outputs": [
    {
     "data": {
      "text/plain": [
       "True"
      ]
     },
     "execution_count": 1,
     "metadata": {},
     "output_type": "execute_result"
    }
   ],
   "source": [
    "import os\n",
    "from dotenv import load_dotenv\n",
    "load_dotenv()"
   ]
  },
  {
   "cell_type": "code",
   "execution_count": 81,
   "id": "30ff9e07",
   "metadata": {},
   "outputs": [
    {
     "data": {
      "text/plain": [
       "ChatGroq(client=<groq.resources.chat.completions.Completions object at 0x0000015EDBB86810>, async_client=<groq.resources.chat.completions.AsyncCompletions object at 0x0000015EDBC29390>, model_name='llama-3.1-8b-instant', model_kwargs={}, groq_api_key=SecretStr('**********'))"
      ]
     },
     "execution_count": 81,
     "metadata": {},
     "output_type": "execute_result"
    }
   ],
   "source": [
    "from langchain_groq import ChatGroq\n",
    "from langchain.chat_models import init_chat_model\n",
    "\n",
    "llm=ChatGroq(model=\"llama-3.1-8b-instant\")\n",
    "llm"
   ]
  },
  {
   "cell_type": "code",
   "execution_count": 82,
   "id": "3d435a90",
   "metadata": {},
   "outputs": [
    {
     "data": {
      "text/plain": [
       "ChatGroq(client=<groq.resources.chat.completions.Completions object at 0x0000015EDC2840D0>, async_client=<groq.resources.chat.completions.AsyncCompletions object at 0x0000015EDB970150>, model_name='llama-3.1-8b-instant', model_kwargs={}, groq_api_key=SecretStr('**********'))"
      ]
     },
     "execution_count": 82,
     "metadata": {},
     "output_type": "execute_result"
    }
   ],
   "source": [
    "llm=init_chat_model(\"groq:llama-3.1-8b-instant\")\n",
    "llm"
   ]
  },
  {
   "cell_type": "code",
   "execution_count": 83,
   "id": "646d571f",
   "metadata": {},
   "outputs": [],
   "source": [
    "def chatbot(state:State):\n",
    "    return {\"messages\":[llm.invoke(state[\"messages\"])]}"
   ]
  },
  {
   "cell_type": "code",
   "execution_count": 84,
   "id": "8ca0fbdb",
   "metadata": {},
   "outputs": [],
   "source": [
    "#adding node \n",
    "graph_builder.add_node(\"llmchatbot\",chatbot)\n",
    "#addding edges\n",
    "graph_builder.add_edge(START,\"llmchatbot\")\n",
    "graph_builder.add_edge(\"llmchatbot\",END)\n",
    "\n",
    "#complie graph\n",
    "\n",
    "graph=graph_builder.compile()"
   ]
  },
  {
   "cell_type": "code",
   "execution_count": 85,
   "id": "f90e8621",
   "metadata": {},
   "outputs": [
    {
     "data": {
      "image/png": "[encoded data removed]",
      "text/plain": [
       "<IPython.core.display.Image object>"
      ]
     },
     "metadata": {},
     "output_type": "display_data"
    }
   ],
   "source": [
    "from IPython.display import Image,display\n",
    "\n",
    "try:\n",
    "    display(Image(graph.get_graph().draw_mermaid_png()))\n",
    "except Exception:\n",
    "    pass"
   ]
  },
  {
   "cell_type": "code",
   "execution_count": 86,
   "id": "e737b6bb",
   "metadata": {},
   "outputs": [],
   "source": [
    "response=graph.invoke({\"messages\":\"hi\"})"
   ]
  },
  {
   "cell_type": "code",
   "execution_count": 87,
   "id": "f779e878",
   "metadata": {},
   "outputs": [
    {
     "data": {
      "text/plain": [
       "'How can I assist you today?'"
      ]
     },
     "execution_count": 87,
     "metadata": {},
     "output_type": "execute_result"
    }
   ],
   "source": [
    "response[\"messages\"][-1].content"
   ]
  },
  {
   "cell_type": "code",
   "execution_count": 88,
   "id": "b6d7b5e5",
   "metadata": {},
   "outputs": [
    {
     "name": "stdout",
     "output_type": "stream",
     "text": [
      "I'm just a language model, I don't have emotions or feelings like humans do, but I'm functioning properly and ready to assist you with any questions or tasks you may have. How can I help you today?\n"
     ]
    }
   ],
   "source": [
    "for event in graph.stream({\"messages\":\"hi how are you\"}):\n",
    "    for value in event.values():\n",
    "        print(value[\"messages\"][-1].content)\n"
   ]
  },
  {
   "cell_type": "code",
   "execution_count": 89,
   "id": "0be22321",
   "metadata": {},
   "outputs": [],
   "source": [
    "#CHAt with tool"
   ]
  },
  {
   "cell_type": "code",
   "execution_count": 90,
   "id": "2183a622",
   "metadata": {},
   "outputs": [
    {
     "data": {
      "text/plain": [
       "{'query': 'what is recent ai news',\n",
       " 'follow_up_questions': None,\n",
       " 'answer': None,\n",
       " 'images': [],\n",
       " 'results': [{'title': 'AI News | Latest Headlines and Developments | Reuters',\n",
       "   'url': 'https://www.reuters.com/technology/artificial-intelligence/',\n",
       "   'content': 'Chinese AI startup DeepSeek, which said in January it had developed an AI model to rival ChatGPT at much lower cost, has come under scrutiny in some countries for its security policies and privacy',\n",
       "   'score': 0.5911811,\n",
       "   'raw_content': None},\n",
       "  {'title': 'Current AI News: Track the latest developments here. Updated every 4 hours!',\n",
       "   'url': 'https://currentai.news/',\n",
       "   'content': 'Your go-to source for the latest in artificial intelligence - research breakthroughs, product launches, funding news, and more.',\n",
       "   'score': 0.57637566,\n",
       "   'raw_content': None}],\n",
       " 'response_time': 1.49}"
      ]
     },
     "execution_count": 90,
     "metadata": {},
     "output_type": "execute_result"
    }
   ],
   "source": [
    "from langchain_tavily import TavilySearch\n",
    "\n",
    "tool=TavilySearch(max_results=2)\n",
    "\n",
    "tool.invoke(\"what is recent ai news\" )"
   ]
  },
  {
   "cell_type": "code",
   "execution_count": 91,
   "id": "b32f99c4",
   "metadata": {},
   "outputs": [],
   "source": [
    "def multiply(a:int,b:int)->int:\n",
    "    \"\"\"Multiply a and b\n",
    "\n",
    "    Args:\n",
    "        a (int): first int\n",
    "        b (int): second int\n",
    "    \n",
    "    Returns:\n",
    "        int: output int\n",
    "\n",
    "    \"\"\"\n",
    "    return a*b\n",
    "    "
   ]
  },
  {
   "cell_type": "code",
   "execution_count": null,
   "id": "8bd2ce13",
   "metadata": {},
   "outputs": [],
   "source": []
  },
  {
   "cell_type": "code",
   "execution_count": null,
   "id": "96556874",
   "metadata": {},
   "outputs": [],
   "source": []
  },
  {
   "cell_type": "code",
   "execution_count": null,
   "id": "b7b5d3ac",
   "metadata": {},
   "outputs": [],
   "source": []
  },
  {
   "cell_type": "code",
   "execution_count": 92,
   "id": "fb90f288",
   "metadata": {},
   "outputs": [
    {
     "data": {
      "image/png": "[encoded data removed]",
      "text/plain": [
       "<IPython.core.display.Image object>"
      ]
     },
     "metadata": {},
     "output_type": "display_data"
    }
   ],
   "source": [
    "##state graph wit tools\n",
    "from langgraph.graph import StateGraph,START,END\n",
    "from langgraph.prebuilt import ToolNode\n",
    "from langgraph.prebuilt import tools_condition\n",
    "\n",
    "tools=[tool,multiply]\n",
    "\n",
    "llm_with_tool = llm.bind_tools(tools)\n",
    "#node definition\n",
    "def tool_calling_llm(state: State):\n",
    "    return {\"messages\": [llm_with_tool.invoke(state[\"messages\"])]}\n",
    "\n",
    "\n",
    "#Graph\n",
    "builder=StateGraph(State)\n",
    "builder.add_node(\"tool_calling_llm\",tool_calling_llm)\n",
    "builder.add_node(\"tools\",ToolNode(tools))\n",
    "\n",
    "#add edges\n",
    "builder.add_edge(START,\"tool_calling_llm\")\n",
    "builder.add_conditional_edges(\n",
    "    \"tool_calling_llm\",\n",
    "    tools_condition\n",
    "\n",
    ")\n",
    "builder.add_edge(\"tools\",END)\n",
    "\n",
    "\n",
    "graph= builder.compile()\n",
    "display(Image(graph.get_graph().draw_mermaid_png()))\n",
    "\n",
    "\n"
   ]
  },
  {
   "cell_type": "code",
   "execution_count": 93,
   "id": "6e67cc2a",
   "metadata": {},
   "outputs": [
    {
     "name": "stdout",
     "output_type": "stream",
     "text": [
      "================================\u001b[1m Human Message \u001b[0m=================================\n",
      "\n",
      "hi\n",
      "==================================\u001b[1m Ai Message \u001b[0m==================================\n",
      "\n",
      "How can I assist you today?\n"
     ]
    }
   ],
   "source": [
    "result=graph.invoke({\"messages\":\"Given me the of multiply 5 by 10\"})\n",
    "for i in response[\"messages\"]:\n",
    "    i.pretty_print()"
   ]
  },
  {
   "cell_type": "code",
   "execution_count": 94,
   "id": "01863fad",
   "metadata": {},
   "outputs": [
    {
     "data": {
      "text/plain": [
       "'50'"
      ]
     },
     "execution_count": 94,
     "metadata": {},
     "output_type": "execute_result"
    }
   ],
   "source": [
    "result[\"messages\"][-1].content\n"
   ]
  },
  {
   "cell_type": "code",
   "execution_count": 95,
   "id": "7d72403d",
   "metadata": {},
   "outputs": [
    {
     "name": "stdout",
     "output_type": "stream",
     "text": [
      "================================\u001b[1m Human Message \u001b[0m=================================\n",
      "\n",
      "Given me the of multiply 5 by 10\n",
      "==================================\u001b[1m Ai Message \u001b[0m==================================\n",
      "Tool Calls:\n",
      "  multiply (rx7mrh9vp)\n",
      " Call ID: rx7mrh9vp\n",
      "  Args:\n",
      "    a: 5\n",
      "    b: 10\n",
      "=================================\u001b[1m Tool Message \u001b[0m=================================\n",
      "Name: multiply\n",
      "\n",
      "50\n"
     ]
    }
   ],
   "source": [
    "for m in result[\"messages\"]:\n",
    "    m.pretty_print()"
   ]
  },
  {
   "cell_type": "code",
   "execution_count": null,
   "id": "d02b0fc8",
   "metadata": {},
   "outputs": [],
   "source": []
  },
  {
   "cell_type": "markdown",
   "id": "8221b02f",
   "metadata": {},
   "source": [
    "#ReAct Agent Architecture"
   ]
  },
  {
   "cell_type": "code",
   "execution_count": 96,
   "id": "1270b1a8",
   "metadata": {},
   "outputs": [
    {
     "data": {
      "image/png": "[encoded data removed]",
      "text/plain": [
       "<IPython.core.display.Image object>"
      ]
     },
     "metadata": {},
     "output_type": "display_data"
    }
   ],
   "source": [
    "##state graph wit tools\n",
    "from langgraph.graph import StateGraph\n",
    "from langgraph.prebuilt import ToolNode\n",
    "from langgraph.prebuilt import tools_condition\n",
    "\n",
    "\n",
    "tools=[tool,multiply]\n",
    "\n",
    "llm_with_tool = llm.bind_tools(tools)\n",
    "\n",
    "#node definition\n",
    "def tool_calling_llm(state:State):\n",
    "    return {\"messages\":[llm_with_tool.invoke(state[\"messages\"])]}\n",
    "\n",
    "\n",
    "#Graph\n",
    "builder=StateGraph(State)\n",
    "builder.add_node(\"tool_calling_llm\",tool_calling_llm)\n",
    "builder.add_node(\"tools\",ToolNode(tools))\n",
    "\n",
    "\n",
    "#add edges\n",
    "builder.add_edge(START,\"tool_calling_llm\")\n",
    "builder.add_conditional_edges(\n",
    "    \"tool_calling_llm\",\n",
    "    tools_condition\n",
    "\n",
    ")\n",
    "builder.add_edge(\"tools\",\"tool_calling_llm\")\n",
    "\n",
    "\n",
    "graph= builder.compile()\n",
    "display(Image(graph.get_graph().draw_mermaid_png()))\n",
    "\n",
    "\n"
   ]
  },
  {
   "cell_type": "code",
   "execution_count": 97,
   "id": "3c686897",
   "metadata": {},
   "outputs": [
    {
     "data": {
      "text/plain": [
       "[HumanMessage(content='Given me the recent ai news and multiply 4 with 200 ', additional_kwargs={}, response_metadata={}, id='d12f5c5f-ca8c-4db4-aa73-3fa8f4e6db9b'),\n",
       " AIMessage(content='', additional_kwargs={'tool_calls': [{'id': 'chtfzghh0', 'function': {'arguments': '{\"query\":\"recent ai news\",\"time_range\":\"day\",\"topic\":\"news\"}', 'name': 'tavily_search'}, 'type': 'function'}, {'id': 'dzg9n3hpx', 'function': {'arguments': '{\"a\":4,\"b\":200}', 'name': 'multiply'}, 'type': 'function'}]}, response_metadata={'token_usage': {'completion_tokens': 49, 'prompt_tokens': 1256, 'total_tokens': 1305, 'completion_time': 0.09870069, 'prompt_time': 0.080978388, 'queue_time': 0.053783080999999996, 'total_time': 0.179679078}, 'model_name': 'llama-3.1-8b-instant', 'system_fingerprint': 'fp_510c177af0', 'finish_reason': 'tool_calls', 'logprobs': None}, id='run--722330f6-b87f-4eda-ae0d-75909086a593-0', tool_calls=[{'name': 'tavily_search', 'args': {'query': 'recent ai news', 'time_range': 'day', 'topic': 'news'}, 'id': 'chtfzghh0', 'type': 'tool_call'}, {'name': 'multiply', 'args': {'a': 4, 'b': 200}, 'id': 'dzg9n3hpx', 'type': 'tool_call'}], usage_metadata={'input_tokens': 1256, 'output_tokens': 49, 'total_tokens': 1305}),\n",
       " ToolMessage(content='{\"query\": \"recent ai news\", \"follow_up_questions\": null, \"answer\": null, \"images\": [], \"results\": [{\"url\": \"https://www.fintechfutures.com/ai-in-fintech/june-2025-top-five-ai-stories-of-the-month\", \"title\": \"June 2025: Top five AI stories of the month - FinTech Futures\", \"score\": 0.7382357, \"published_date\": \"Mon, 30 Jun 2025 12:18:53 GMT\", \"content\": \"AI - FinTech News Here, FinTech Futures recaps five of the top AI stories from June, featuring NatWest, Nvidia, Danske Bank and more. The UK\\'s Financial Conduct Authority (FCA) has revealed plans to launch a new sandbox to \\\\\"help firms experiment safely with AI to support innovation\\\\\" in collaboration with Nvidia. Denmark’s Danske Bank has appointed Kasper Tjørntved Davidsen as its new chief AI officer (CAIO) and head of generative AI, effective immediately. Davidsen will help drive the Danske Bank\\'s Forward\\'28 strategy, which focuses on technology modernisation, investments in the bank\\'s data platform and AI, and public cloud migration supported by a multi-year Amazon Web Services agreement. ## Tipalti acquires AI-powered treasury automation fintech Statement\", \"raw_content\": null}, {\"url\": \"https://opentools.ai/news/metas-ai-power-move-eight-openai-researchers-join-the-team\", \"title\": \"Meta\\'s AI Power Move: Eight OpenAI Researchers Join the Team - OpenTools\", \"score\": 0.69274646, \"published_date\": \"Tue, 01 Jul 2025 00:21:32 GMT\", \"content\": \"In a bold and strategic move, Meta has recruited eight top-tier researchers from OpenAI, sparking industry-wide discussions about talent wars, compensation packages, and the future of AI development. The recent recruitment moves by Meta, involving the acquisition of eight researchers from OpenAI, underscore a significant talent shift within the AI industry. The hiring of eight researchers from OpenAI by Meta has not only sparked a public disagreement between the two companies but has also highlighted the critical importance of talent acquisition in the rapidly evolving AI sector. The future of AI talent acquisition is poised to be a dynamic and highly competitive landscape, driven by recent trends such as Meta’s aggressive recruitment from OpenAI.\", \"raw_content\": null}], \"response_time\": 0.27}', name='tavily_search', id='c503f518-9cc7-43ff-b214-3e845c00d889', tool_call_id='chtfzghh0'),\n",
       " ToolMessage(content='800', name='multiply', id='d5e4e593-6c19-4f25-811c-bbf0a4368e50', tool_call_id='dzg9n3hpx'),\n",
       " AIMessage(content=\"The recent AI news was obtained using the 'tavily_search' function. The multiplication of 4 and 200 was obtained using the 'multiply' function. \\n\\nNote that the 'tavily_search' function returns a response that includes a URL, title, score, published date, content, and other information. The 'multiply' function simply returns the product of the two input numbers. \\n\\nAlso, note that the 'tavily_search' function has a default time range of None, which means it returns results for any time range. However, in this case, we specified a time range of 'day', which limits the results to content published within the last 24 hours. \\n\\nFinally, note that the 'tavily_search' function has a default topic of 'general', which means it returns results for any topic. However, in this case, we specified a topic of 'news', which limits the results to content related to news.\", additional_kwargs={}, response_metadata={'token_usage': {'completion_tokens': 195, 'prompt_tokens': 1842, 'total_tokens': 2037, 'completion_time': 0.385954193, 'prompt_time': 0.120404187, 'queue_time': 0.052767329, 'total_time': 0.50635838}, 'model_name': 'llama-3.1-8b-instant', 'system_fingerprint': 'fp_8ab2e50475', 'finish_reason': 'stop', 'logprobs': None}, id='run--577afdd2-f791-4eca-8759-3d328299c526-0', usage_metadata={'input_tokens': 1842, 'output_tokens': 195, 'total_tokens': 2037})]"
      ]
     },
     "execution_count": 97,
     "metadata": {},
     "output_type": "execute_result"
    }
   ],
   "source": [
    "res=graph.invoke({\"messages\":\"Given me the recent ai news and multiply 4 with 200 \"})\n",
    "res[\"messages\"]"
   ]
  },
  {
   "cell_type": "code",
   "execution_count": 98,
   "id": "76a2d446",
   "metadata": {},
   "outputs": [
    {
     "name": "stdout",
     "output_type": "stream",
     "text": [
      "================================\u001b[1m Human Message \u001b[0m=================================\n",
      "\n",
      "Given me the recent ai news and multiply 4 with 200 \n",
      "==================================\u001b[1m Ai Message \u001b[0m==================================\n",
      "Tool Calls:\n",
      "  tavily_search (chtfzghh0)\n",
      " Call ID: chtfzghh0\n",
      "  Args:\n",
      "    query: recent ai news\n",
      "    time_range: day\n",
      "    topic: news\n",
      "  multiply (dzg9n3hpx)\n",
      " Call ID: dzg9n3hpx\n",
      "  Args:\n",
      "    a: 4\n",
      "    b: 200\n",
      "=================================\u001b[1m Tool Message \u001b[0m=================================\n",
      "Name: tavily_search\n",
      "\n",
      "{\"query\": \"recent ai news\", \"follow_up_questions\": null, \"answer\": null, \"images\": [], \"results\": [{\"url\": \"https://www.fintechfutures.com/ai-in-fintech/june-2025-top-five-ai-stories-of-the-month\", \"title\": \"June 2025: Top five AI stories of the month - FinTech Futures\", \"score\": 0.7382357, \"published_date\": \"Mon, 30 Jun 2025 12:18:53 GMT\", \"content\": \"AI - FinTech News Here, FinTech Futures recaps five of the top AI stories from June, featuring NatWest, Nvidia, Danske Bank and more. The UK's Financial Conduct Authority (FCA) has revealed plans to launch a new sandbox to \\\"help firms experiment safely with AI to support innovation\\\" in collaboration with Nvidia. Denmark’s Danske Bank has appointed Kasper Tjørntved Davidsen as its new chief AI officer (CAIO) and head of generative AI, effective immediately. Davidsen will help drive the Danske Bank's Forward'28 strategy, which focuses on technology modernisation, investments in the bank's data platform and AI, and public cloud migration supported by a multi-year Amazon Web Services agreement. ## Tipalti acquires AI-powered treasury automation fintech Statement\", \"raw_content\": null}, {\"url\": \"https://opentools.ai/news/metas-ai-power-move-eight-openai-researchers-join-the-team\", \"title\": \"Meta's AI Power Move: Eight OpenAI Researchers Join the Team - OpenTools\", \"score\": 0.69274646, \"published_date\": \"Tue, 01 Jul 2025 00:21:32 GMT\", \"content\": \"In a bold and strategic move, Meta has recruited eight top-tier researchers from OpenAI, sparking industry-wide discussions about talent wars, compensation packages, and the future of AI development. The recent recruitment moves by Meta, involving the acquisition of eight researchers from OpenAI, underscore a significant talent shift within the AI industry. The hiring of eight researchers from OpenAI by Meta has not only sparked a public disagreement between the two companies but has also highlighted the critical importance of talent acquisition in the rapidly evolving AI sector. The future of AI talent acquisition is poised to be a dynamic and highly competitive landscape, driven by recent trends such as Meta’s aggressive recruitment from OpenAI.\", \"raw_content\": null}], \"response_time\": 0.27}\n",
      "=================================\u001b[1m Tool Message \u001b[0m=================================\n",
      "Name: multiply\n",
      "\n",
      "800\n",
      "==================================\u001b[1m Ai Message \u001b[0m==================================\n",
      "\n",
      "The recent AI news was obtained using the 'tavily_search' function. The multiplication of 4 and 200 was obtained using the 'multiply' function. \n",
      "\n",
      "Note that the 'tavily_search' function returns a response that includes a URL, title, score, published date, content, and other information. The 'multiply' function simply returns the product of the two input numbers. \n",
      "\n",
      "Also, note that the 'tavily_search' function has a default time range of None, which means it returns results for any time range. However, in this case, we specified a time range of 'day', which limits the results to content published within the last 24 hours. \n",
      "\n",
      "Finally, note that the 'tavily_search' function has a default topic of 'general', which means it returns results for any topic. However, in this case, we specified a topic of 'news', which limits the results to content related to news.\n"
     ]
    }
   ],
   "source": [
    "for m in res[\"messages\"]:\n",
    "    m.pretty_print()"
   ]
  },
  {
   "cell_type": "markdown",
   "id": "11ee5e4b",
   "metadata": {},
   "source": [
    "#Adding Memory In Agentic GRaph"
   ]
  },
  {
   "cell_type": "code",
   "execution_count": 99,
   "id": "6ddde674",
   "metadata": {},
   "outputs": [
    {
     "name": "stdout",
     "output_type": "stream",
     "text": [
      "================================\u001b[1m Human Message \u001b[0m=================================\n",
      "\n",
      "hello my name is krish\n",
      "==================================\u001b[1m Ai Message \u001b[0m==================================\n",
      "\n",
      "Hello Krish. How can I assist you today?\n"
     ]
    }
   ],
   "source": [
    "res=graph.invoke({\"messages\":\"hello my name is krish\"})\n",
    "for z in res[\"messages\"]:\n",
    "    z.pretty_print()"
   ]
  },
  {
   "cell_type": "markdown",
   "id": "2affc275",
   "metadata": {},
   "source": []
  },
  {
   "cell_type": "code",
   "execution_count": 100,
   "id": "2bab6c62",
   "metadata": {},
   "outputs": [
    {
     "name": "stdout",
     "output_type": "stream",
     "text": [
      "================================\u001b[1m Human Message \u001b[0m=================================\n",
      "\n",
      "what is my name\n",
      "==================================\u001b[1m Ai Message \u001b[0m==================================\n",
      "\n",
      "I don't have any information about your name. If you'd like to share it with me, I can try to recall it for our conversation.\n"
     ]
    }
   ],
   "source": [
    "res=graph.invoke({\"messages\":\"what is my name\"})\n",
    "for z in res[\"messages\"]:\n",
    "    z.pretty_print()"
   ]
  },
  {
   "cell_type": "code",
   "execution_count": 101,
   "id": "f35e7d4c",
   "metadata": {},
   "outputs": [
    {
     "data": {
      "image/png": "[encoded data removed]",
      "text/plain": [
       "<IPython.core.display.Image object>"
      ]
     },
     "metadata": {},
     "output_type": "display_data"
    }
   ],
   "source": [
    "##state graph wit tools\n",
    "from langgraph.graph import StateGraph\n",
    "from langgraph.prebuilt import ToolNode\n",
    "from langgraph.prebuilt import tools_condition\n",
    "from langgraph.checkpoint.memory import MemorySaver\n",
    "\n",
    "memory = MemorySaver()\n",
    "\n",
    "\n",
    "tools=[tool,multiply]\n",
    "\n",
    "llm_with_tool = llm.bind_tools(tools)\n",
    "\n",
    "#node definition\n",
    "def tool_calling_llm(state:State):\n",
    "    return {\"messages\":[llm_with_tool.invoke(state[\"messages\"])]}\n",
    "\n",
    "\n",
    "#Graph\n",
    "builder=StateGraph(State)\n",
    "builder.add_node(\"tool_calling_llm\",tool_calling_llm)\n",
    "builder.add_node(\"tools\",ToolNode(tools))\n",
    "\n",
    "\n",
    "#add edges\n",
    "builder.add_edge(START,\"tool_calling_llm\")\n",
    "builder.add_conditional_edges(\n",
    "    \"tool_calling_llm\",\n",
    "    tools_condition\n",
    "\n",
    ")\n",
    "builder.add_edge(\"tools\",\"tool_calling_llm\")\n",
    "\n",
    "\n",
    "graph= builder.compile(checkpointer=memory)\n",
    "display(Image(graph.get_graph().draw_mermaid_png()))\n",
    "\n"
   ]
  },
  {
   "cell_type": "code",
   "execution_count": 102,
   "id": "db5b795b",
   "metadata": {},
   "outputs": [
    {
     "data": {
      "text/plain": [
       "{'messages': [HumanMessage(content='hi my name is dheeraj', additional_kwargs={}, response_metadata={}, id='354d478c-8fb5-4e20-8246-935ecf526ec2'),\n",
       "  AIMessage(content='Nice to meet you, Dheeraj. How can I assist you today?', additional_kwargs={}, response_metadata={'token_usage': {'completion_tokens': 18, 'prompt_tokens': 1249, 'total_tokens': 1267, 'completion_time': 0.024, 'prompt_time': 0.081222256, 'queue_time': 0.05266982499999999, 'total_time': 0.105222256}, 'model_name': 'llama-3.1-8b-instant', 'system_fingerprint': 'fp_8ab2e50475', 'finish_reason': 'stop', 'logprobs': None}, id='run--5001521f-4b7e-45be-a86d-5423bdf00741-0', usage_metadata={'input_tokens': 1249, 'output_tokens': 18, 'total_tokens': 1267})]}"
      ]
     },
     "execution_count": 102,
     "metadata": {},
     "output_type": "execute_result"
    }
   ],
   "source": [
    "config = {\"configurable\":{\"thread_id\":\"1\"}}\n",
    "\n",
    "response=graph.invoke({\"messages\":\"hi my name is dheeraj\"},config=config)\n",
    "\n",
    "response\n"
   ]
  },
  {
   "cell_type": "markdown",
   "id": "72d3d00b",
   "metadata": {},
   "source": []
  },
  {
   "cell_type": "code",
   "execution_count": 103,
   "id": "ae9802c7",
   "metadata": {},
   "outputs": [
    {
     "data": {
      "text/plain": [
       "'Nice to meet you, Dheeraj. How can I assist you today?'"
      ]
     },
     "execution_count": 103,
     "metadata": {},
     "output_type": "execute_result"
    }
   ],
   "source": [
    "response[\"messages\"][-1].content"
   ]
  },
  {
   "cell_type": "code",
   "execution_count": 104,
   "id": "8f7fc722",
   "metadata": {},
   "outputs": [
    {
     "data": {
      "text/plain": [
       "'Yes, I do know your name, Dheeraj. What would you like to discuss or ask about?'"
      ]
     },
     "execution_count": 104,
     "metadata": {},
     "output_type": "execute_result"
    }
   ],
   "source": [
    "response=graph.invoke({\"messages\":\"hi do you knw my name\"},config=config)\n",
    "\n",
    "response[\"messages\"][-1].content"
   ]
  },
  {
   "cell_type": "markdown",
   "id": "b671c326",
   "metadata": {},
   "source": [
    "#Streaming"
   ]
  },
  {
   "cell_type": "code",
   "execution_count": 114,
   "id": "d91d9a2d",
   "metadata": {},
   "outputs": [],
   "source": [
    "from langgraph.checkpoint.memory import MemorySaver\n",
    "memory= MemorySaver()"
   ]
  },
  {
   "cell_type": "code",
   "execution_count": 115,
   "id": "770a3b41",
   "metadata": {},
   "outputs": [],
   "source": [
    "def superbot(state:State):\n",
    "    return {\"messages\":[llm.invoke(state['messages'])]}\n"
   ]
  },
  {
   "cell_type": "code",
   "execution_count": 116,
   "id": "75767350",
   "metadata": {},
   "outputs": [
    {
     "data": {
      "image/png": "[encoded data removed]",
      "text/plain": [
       "<IPython.core.display.Image object>"
      ]
     },
     "metadata": {},
     "output_type": "display_data"
    }
   ],
   "source": [
    "graph=StateGraph(State)\n",
    "\n",
    "graph.add_node(\"superbot\",superbot)\n",
    "\n",
    "graph.add_edge(START,\"superbot\")\n",
    "graph.add_edge(\"superbot\",END)\n",
    "\n",
    "graph_builder=graph.compile(checkpointer=memory)\n",
    "\n",
    "from IPython.display import display\n",
    "\n",
    "display(Image(graph_builder.get_graph().draw_mermaid_png()))"
   ]
  },
  {
   "cell_type": "code",
   "execution_count": 117,
   "id": "d4552295",
   "metadata": {},
   "outputs": [
    {
     "data": {
      "text/plain": [
       "{'messages': [HumanMessage(content='hi my name is dheeraj and i like badminton', additional_kwargs={}, response_metadata={}, id='8e4e3d4f-86a5-450c-ae4e-bd21ddb57bca'),\n",
       "  AIMessage(content=\"Hello Dheeraj.  It's nice to meet you.  Badminton is a fantastic sport, it's great that you enjoy playing it. \\n\\nAre you a beginner, intermediate, or advanced badminton player? Have you participated in any local or national tournaments?\", additional_kwargs={}, response_metadata={'token_usage': {'completion_tokens': 58, 'prompt_tokens': 48, 'total_tokens': 106, 'completion_time': 0.090081959, 'prompt_time': 0.002396934, 'queue_time': 0.049813986000000005, 'total_time': 0.092478893}, 'model_name': 'llama-3.1-8b-instant', 'system_fingerprint': 'fp_510c177af0', 'finish_reason': 'stop', 'logprobs': None}, id='run--4a0d0b6c-ce1d-4dad-bc60-315ca902022e-0', usage_metadata={'input_tokens': 48, 'output_tokens': 58, 'total_tokens': 106})]}"
      ]
     },
     "execution_count": 117,
     "metadata": {},
     "output_type": "execute_result"
    }
   ],
   "source": [
    "config = {\"configurable\":{\"thread_id\":\"1\"}}\n",
    "\n",
    "response=graph_builder.invoke({\"messages\":\"hi my name is dheeraj and i like badminton\"},config=config)\n",
    "\n",
    "response"
   ]
  },
  {
   "cell_type": "markdown",
   "id": "39e35c55",
   "metadata": {},
   "source": [
    "### Streaming \n",
    "Methods: .stream() and astream()\n",
    "\n",
    "- These methods are sync and async methods for streaming back results.\n",
    "\n",
    "Additional parameters in streaming modes for graph state\n",
    "\n",
    "- **values** : This streams the full state of the graph after each node is called.\n",
    "- **updates** : This streams updates to the state of the graph after each node is called."
   ]
  },
  {
   "cell_type": "code",
   "execution_count": 118,
   "id": "d2cda113",
   "metadata": {},
   "outputs": [
    {
     "name": "stdout",
     "output_type": "stream",
     "text": [
      "{'superbot': {'messages': [AIMessage(content=\"Hello Dheeraj, nice to meet you.  Badminton is a fantastic sport, it's a great way to stay active, improve your hand-eye coordination, and have fun while playing with friends. Are you an avid player or do you play for leisure?\", additional_kwargs={}, response_metadata={'token_usage': {'completion_tokens': 56, 'prompt_tokens': 48, 'total_tokens': 104, 'completion_time': 0.13773823, 'prompt_time': 0.002804269, 'queue_time': 0.049366302, 'total_time': 0.140542499}, 'model_name': 'llama-3.1-8b-instant', 'system_fingerprint': 'fp_0f5c9bc037', 'finish_reason': 'stop', 'logprobs': None}, id='run--74909b78-335b-44b5-87cb-4f04e43f6a40-0', usage_metadata={'input_tokens': 48, 'output_tokens': 56, 'total_tokens': 104})]}}\n"
     ]
    }
   ],
   "source": [
    "config ={\"configurable\":{\"thread_id\":\"3\"}}\n",
    "\n",
    "for chunk in graph_builder.stream({\"messages\":\"hi my name is dheeraj and i like badminton\"},config,stream_mode=\"updates\"):\n",
    "    print(chunk)"
   ]
  },
  {
   "cell_type": "code",
   "execution_count": 119,
   "id": "33f339e7",
   "metadata": {},
   "outputs": [
    {
     "name": "stdout",
     "output_type": "stream",
     "text": [
      "{'messages': [HumanMessage(content='hi my name is dheeraj and i like badminton', additional_kwargs={}, response_metadata={}, id='d91eb189-fc34-44a2-8f50-54bc13dd6ade'), AIMessage(content=\"Hello Dheeraj, nice to meet you.  Badminton is a fantastic sport, it's a great way to stay active, improve your hand-eye coordination, and have fun while playing with friends. Are you an avid player or do you play for leisure?\", additional_kwargs={}, response_metadata={'token_usage': {'completion_tokens': 56, 'prompt_tokens': 48, 'total_tokens': 104, 'completion_time': 0.13773823, 'prompt_time': 0.002804269, 'queue_time': 0.049366302, 'total_time': 0.140542499}, 'model_name': 'llama-3.1-8b-instant', 'system_fingerprint': 'fp_0f5c9bc037', 'finish_reason': 'stop', 'logprobs': None}, id='run--74909b78-335b-44b5-87cb-4f04e43f6a40-0', usage_metadata={'input_tokens': 48, 'output_tokens': 56, 'total_tokens': 104}), HumanMessage(content='hi my name is dheeraj and i like badminton', additional_kwargs={}, response_metadata={}, id='4d7f4cdf-e021-42ef-afdf-a0f97736851b')]}\n",
      "{'messages': [HumanMessage(content='hi my name is dheeraj and i like badminton', additional_kwargs={}, response_metadata={}, id='d91eb189-fc34-44a2-8f50-54bc13dd6ade'), AIMessage(content=\"Hello Dheeraj, nice to meet you.  Badminton is a fantastic sport, it's a great way to stay active, improve your hand-eye coordination, and have fun while playing with friends. Are you an avid player or do you play for leisure?\", additional_kwargs={}, response_metadata={'token_usage': {'completion_tokens': 56, 'prompt_tokens': 48, 'total_tokens': 104, 'completion_time': 0.13773823, 'prompt_time': 0.002804269, 'queue_time': 0.049366302, 'total_time': 0.140542499}, 'model_name': 'llama-3.1-8b-instant', 'system_fingerprint': 'fp_0f5c9bc037', 'finish_reason': 'stop', 'logprobs': None}, id='run--74909b78-335b-44b5-87cb-4f04e43f6a40-0', usage_metadata={'input_tokens': 48, 'output_tokens': 56, 'total_tokens': 104}), HumanMessage(content='hi my name is dheeraj and i like badminton', additional_kwargs={}, response_metadata={}, id='4d7f4cdf-e021-42ef-afdf-a0f97736851b'), AIMessage(content='Hello Dheeraj, nice to meet you. You also said that the other time we talked. It seems that you like badminton. Do you have a favorite badminton player either past or present.', additional_kwargs={}, response_metadata={'token_usage': {'completion_tokens': 45, 'prompt_tokens': 126, 'total_tokens': 171, 'completion_time': 0.113135748, 'prompt_time': 0.007730991, 'queue_time': 0.049034939, 'total_time': 0.120866739}, 'model_name': 'llama-3.1-8b-instant', 'system_fingerprint': 'fp_510c177af0', 'finish_reason': 'stop', 'logprobs': None}, id='run--9b136adc-4be7-47f1-b70d-297eea887572-0', usage_metadata={'input_tokens': 126, 'output_tokens': 45, 'total_tokens': 171})]}\n"
     ]
    }
   ],
   "source": [
    "config ={\"configurable\":{\"thread_id\":\"3\"}}\n",
    "\n",
    "for chunk in graph_builder.stream({\"messages\":\"hi my name is dheeraj and i like badminton\"},config,stream_mode=\"values\"):\n",
    "    print(chunk)"
   ]
  },
  {
   "cell_type": "code",
   "execution_count": 122,
   "id": "6b09bc1f",
   "metadata": {},
   "outputs": [
    {
     "name": "stdout",
     "output_type": "stream",
     "text": [
      "{'superbot': {'messages': [AIMessage(content=\"Hi Dheeraj, nice to meet you. Badminton is a great sport, isn't it? It's a fantastic way to stay active, improve your hand-eye coordination, and have fun with friends and family. Which level of badminton do you play, beginner or more advanced?\", additional_kwargs={}, response_metadata={'token_usage': {'completion_tokens': 62, 'prompt_tokens': 48, 'total_tokens': 110, 'completion_time': 0.09561108, 'prompt_time': 0.002386855, 'queue_time': 0.048258105, 'total_time': 0.097997935}, 'model_name': 'llama-3.1-8b-instant', 'system_fingerprint': 'fp_0f5c9bc037', 'finish_reason': 'stop', 'logprobs': None}, id='run--e2ca498d-dab6-446c-8045-42e410d03983-0', usage_metadata={'input_tokens': 48, 'output_tokens': 62, 'total_tokens': 110})]}}\n"
     ]
    }
   ],
   "source": [
    "config ={\"configurable\":{\"thread_id\":\"5\"}}\n",
    "\n",
    "for chunk in graph_builder.stream({\"messages\":\"hi my name is dheeraj and i like badminton\"},config,stream_mode=\"updates\"):\n",
    "    print(chunk)"
   ]
  },
  {
   "cell_type": "code",
   "execution_count": 123,
   "id": "da49132a",
   "metadata": {},
   "outputs": [
    {
     "name": "stdout",
     "output_type": "stream",
     "text": [
      "{'messages': [HumanMessage(content='hi my name is dheeraj and i like badminton', additional_kwargs={}, response_metadata={}, id='f7985c0a-5717-4570-8a73-5ea11197a858'), AIMessage(content=\"Hi Dheeraj, nice to meet you. Badminton is a great sport, isn't it? It's a fantastic way to stay active, improve your hand-eye coordination, and have fun with friends and family. Which level of badminton do you play, beginner or more advanced?\", additional_kwargs={}, response_metadata={'token_usage': {'completion_tokens': 62, 'prompt_tokens': 48, 'total_tokens': 110, 'completion_time': 0.09561108, 'prompt_time': 0.002386855, 'queue_time': 0.048258105, 'total_time': 0.097997935}, 'model_name': 'llama-3.1-8b-instant', 'system_fingerprint': 'fp_0f5c9bc037', 'finish_reason': 'stop', 'logprobs': None}, id='run--e2ca498d-dab6-446c-8045-42e410d03983-0', usage_metadata={'input_tokens': 48, 'output_tokens': 62, 'total_tokens': 110}), HumanMessage(content='i also like football too', additional_kwargs={}, response_metadata={}, id='e1b17406-c5f4-47b0-9b8d-ee6f722b2568')]}\n"
     ]
    },
    {
     "name": "stdout",
     "output_type": "stream",
     "text": [
      "{'messages': [HumanMessage(content='hi my name is dheeraj and i like badminton', additional_kwargs={}, response_metadata={}, id='f7985c0a-5717-4570-8a73-5ea11197a858'), AIMessage(content=\"Hi Dheeraj, nice to meet you. Badminton is a great sport, isn't it? It's a fantastic way to stay active, improve your hand-eye coordination, and have fun with friends and family. Which level of badminton do you play, beginner or more advanced?\", additional_kwargs={}, response_metadata={'token_usage': {'completion_tokens': 62, 'prompt_tokens': 48, 'total_tokens': 110, 'completion_time': 0.09561108, 'prompt_time': 0.002386855, 'queue_time': 0.048258105, 'total_time': 0.097997935}, 'model_name': 'llama-3.1-8b-instant', 'system_fingerprint': 'fp_0f5c9bc037', 'finish_reason': 'stop', 'logprobs': None}, id='run--e2ca498d-dab6-446c-8045-42e410d03983-0', usage_metadata={'input_tokens': 48, 'output_tokens': 62, 'total_tokens': 110}), HumanMessage(content='i also like football too', additional_kwargs={}, response_metadata={}, id='e1b17406-c5f4-47b0-9b8d-ee6f722b2568'), AIMessage(content=\"A multi-sport enthusiast, that's great. Football and badminton are quite different, but both require a good level of physical fitness and teamwork. Which position do you play in football, are you a striker, defender, midfielder, or goalie?\", additional_kwargs={}, response_metadata={'token_usage': {'completion_tokens': 52, 'prompt_tokens': 124, 'total_tokens': 176, 'completion_time': 0.111659018, 'prompt_time': 0.007606278, 'queue_time': 0.048634142, 'total_time': 0.119265296}, 'model_name': 'llama-3.1-8b-instant', 'system_fingerprint': 'fp_0f5c9bc037', 'finish_reason': 'stop', 'logprobs': None}, id='run--37f4aeff-a821-472a-8deb-620067c471cb-0', usage_metadata={'input_tokens': 124, 'output_tokens': 52, 'total_tokens': 176})]}\n"
     ]
    }
   ],
   "source": [
    "for chunk in graph_builder.stream({\"messages\":\"i also like football too\"},config,stream_mode=\"values\"):\n",
    "    print(chunk)"
   ]
  },
  {
   "cell_type": "code",
   "execution_count": 126,
   "id": "002b0256",
   "metadata": {},
   "outputs": [
    {
     "name": "stdout",
     "output_type": "stream",
     "text": [
      "{'event': 'on_chain_start', 'data': {'input': {'messages': 'hi my name is dheeraj and i like badminton'}}, 'name': 'LangGraph', 'tags': [], 'run_id': '2a10730d-6c3e-4e51-bdfc-d12150f3a5e1', 'metadata': {'thread_id': '6'}, 'parent_ids': []}\n",
      "{'event': 'on_chain_start', 'data': {'input': {'messages': [HumanMessage(content='hi my name is dheeraj and i like badminton', additional_kwargs={}, response_metadata={}, id='455c9f66-1a13-4e18-b87f-3c9130d60224')]}}, 'name': 'superbot', 'tags': ['graph:step:1'], 'run_id': '162ddcf1-12df-4a27-b69a-156df673100d', 'metadata': {'thread_id': '6', 'langgraph_step': 1, 'langgraph_node': 'superbot', 'langgraph_triggers': ('branch:to:superbot',), 'langgraph_path': ('__pregel_pull', 'superbot'), 'langgraph_checkpoint_ns': 'superbot:9626f236-0292-4936-54e9-8b3a6a6651b4'}, 'parent_ids': ['2a10730d-6c3e-4e51-bdfc-d12150f3a5e1']}\n",
      "{'event': 'on_chat_model_start', 'data': {'input': {'messages': [[HumanMessage(content='hi my name is dheeraj and i like badminton', additional_kwargs={}, response_metadata={}, id='455c9f66-1a13-4e18-b87f-3c9130d60224')]]}}, 'name': 'ChatGroq', 'tags': ['seq:step:1'], 'run_id': 'd11c837f-9147-417e-be07-0d7fa64de2a6', 'metadata': {'thread_id': '6', 'langgraph_step': 1, 'langgraph_node': 'superbot', 'langgraph_triggers': ('branch:to:superbot',), 'langgraph_path': ('__pregel_pull', 'superbot'), 'langgraph_checkpoint_ns': 'superbot:9626f236-0292-4936-54e9-8b3a6a6651b4', 'checkpoint_ns': 'superbot:9626f236-0292-4936-54e9-8b3a6a6651b4', 'ls_provider': 'groq', 'ls_model_name': 'llama-3.1-8b-instant', 'ls_model_type': 'chat', 'ls_temperature': 0.7}, 'parent_ids': ['2a10730d-6c3e-4e51-bdfc-d12150f3a5e1', '162ddcf1-12df-4a27-b69a-156df673100d']}\n",
      "{'event': 'on_chat_model_stream', 'data': {'chunk': AIMessageChunk(content='', additional_kwargs={}, response_metadata={}, id='run--d11c837f-9147-417e-be07-0d7fa64de2a6')}, 'run_id': 'd11c837f-9147-417e-be07-0d7fa64de2a6', 'name': 'ChatGroq', 'tags': ['seq:step:1'], 'metadata': {'thread_id': '6', 'langgraph_step': 1, 'langgraph_node': 'superbot', 'langgraph_triggers': ('branch:to:superbot',), 'langgraph_path': ('__pregel_pull', 'superbot'), 'langgraph_checkpoint_ns': 'superbot:9626f236-0292-4936-54e9-8b3a6a6651b4', 'checkpoint_ns': 'superbot:9626f236-0292-4936-54e9-8b3a6a6651b4', 'ls_provider': 'groq', 'ls_model_name': 'llama-3.1-8b-instant', 'ls_model_type': 'chat', 'ls_temperature': 0.7}, 'parent_ids': ['2a10730d-6c3e-4e51-bdfc-d12150f3a5e1', '162ddcf1-12df-4a27-b69a-156df673100d']}\n",
      "{'event': 'on_chat_model_stream', 'data': {'chunk': AIMessageChunk(content='Hi', additional_kwargs={}, response_metadata={}, id='run--d11c837f-9147-417e-be07-0d7fa64de2a6')}, 'run_id': 'd11c837f-9147-417e-be07-0d7fa64de2a6', 'name': 'ChatGroq', 'tags': ['seq:step:1'], 'metadata': {'thread_id': '6', 'langgraph_step': 1, 'langgraph_node': 'superbot', 'langgraph_triggers': ('branch:to:superbot',), 'langgraph_path': ('__pregel_pull', 'superbot'), 'langgraph_checkpoint_ns': 'superbot:9626f236-0292-4936-54e9-8b3a6a6651b4', 'checkpoint_ns': 'superbot:9626f236-0292-4936-54e9-8b3a6a6651b4', 'ls_provider': 'groq', 'ls_model_name': 'llama-3.1-8b-instant', 'ls_model_type': 'chat', 'ls_temperature': 0.7}, 'parent_ids': ['2a10730d-6c3e-4e51-bdfc-d12150f3a5e1', '162ddcf1-12df-4a27-b69a-156df673100d']}\n",
      "{'event': 'on_chat_model_stream', 'data': {'chunk': AIMessageChunk(content=' D', additional_kwargs={}, response_metadata={}, id='run--d11c837f-9147-417e-be07-0d7fa64de2a6')}, 'run_id': 'd11c837f-9147-417e-be07-0d7fa64de2a6', 'name': 'ChatGroq', 'tags': ['seq:step:1'], 'metadata': {'thread_id': '6', 'langgraph_step': 1, 'langgraph_node': 'superbot', 'langgraph_triggers': ('branch:to:superbot',), 'langgraph_path': ('__pregel_pull', 'superbot'), 'langgraph_checkpoint_ns': 'superbot:9626f236-0292-4936-54e9-8b3a6a6651b4', 'checkpoint_ns': 'superbot:9626f236-0292-4936-54e9-8b3a6a6651b4', 'ls_provider': 'groq', 'ls_model_name': 'llama-3.1-8b-instant', 'ls_model_type': 'chat', 'ls_temperature': 0.7}, 'parent_ids': ['2a10730d-6c3e-4e51-bdfc-d12150f3a5e1', '162ddcf1-12df-4a27-b69a-156df673100d']}\n",
      "{'event': 'on_chat_model_stream', 'data': {'chunk': AIMessageChunk(content='he', additional_kwargs={}, response_metadata={}, id='run--d11c837f-9147-417e-be07-0d7fa64de2a6')}, 'run_id': 'd11c837f-9147-417e-be07-0d7fa64de2a6', 'name': 'ChatGroq', 'tags': ['seq:step:1'], 'metadata': {'thread_id': '6', 'langgraph_step': 1, 'langgraph_node': 'superbot', 'langgraph_triggers': ('branch:to:superbot',), 'langgraph_path': ('__pregel_pull', 'superbot'), 'langgraph_checkpoint_ns': 'superbot:9626f236-0292-4936-54e9-8b3a6a6651b4', 'checkpoint_ns': 'superbot:9626f236-0292-4936-54e9-8b3a6a6651b4', 'ls_provider': 'groq', 'ls_model_name': 'llama-3.1-8b-instant', 'ls_model_type': 'chat', 'ls_temperature': 0.7}, 'parent_ids': ['2a10730d-6c3e-4e51-bdfc-d12150f3a5e1', '162ddcf1-12df-4a27-b69a-156df673100d']}\n",
      "{'event': 'on_chat_model_stream', 'data': {'chunk': AIMessageChunk(content='er', additional_kwargs={}, response_metadata={}, id='run--d11c837f-9147-417e-be07-0d7fa64de2a6')}, 'run_id': 'd11c837f-9147-417e-be07-0d7fa64de2a6', 'name': 'ChatGroq', 'tags': ['seq:step:1'], 'metadata': {'thread_id': '6', 'langgraph_step': 1, 'langgraph_node': 'superbot', 'langgraph_triggers': ('branch:to:superbot',), 'langgraph_path': ('__pregel_pull', 'superbot'), 'langgraph_checkpoint_ns': 'superbot:9626f236-0292-4936-54e9-8b3a6a6651b4', 'checkpoint_ns': 'superbot:9626f236-0292-4936-54e9-8b3a6a6651b4', 'ls_provider': 'groq', 'ls_model_name': 'llama-3.1-8b-instant', 'ls_model_type': 'chat', 'ls_temperature': 0.7}, 'parent_ids': ['2a10730d-6c3e-4e51-bdfc-d12150f3a5e1', '162ddcf1-12df-4a27-b69a-156df673100d']}\n",
      "{'event': 'on_chat_model_stream', 'data': {'chunk': AIMessageChunk(content='aj', additional_kwargs={}, response_metadata={}, id='run--d11c837f-9147-417e-be07-0d7fa64de2a6')}, 'run_id': 'd11c837f-9147-417e-be07-0d7fa64de2a6', 'name': 'ChatGroq', 'tags': ['seq:step:1'], 'metadata': {'thread_id': '6', 'langgraph_step': 1, 'langgraph_node': 'superbot', 'langgraph_triggers': ('branch:to:superbot',), 'langgraph_path': ('__pregel_pull', 'superbot'), 'langgraph_checkpoint_ns': 'superbot:9626f236-0292-4936-54e9-8b3a6a6651b4', 'checkpoint_ns': 'superbot:9626f236-0292-4936-54e9-8b3a6a6651b4', 'ls_provider': 'groq', 'ls_model_name': 'llama-3.1-8b-instant', 'ls_model_type': 'chat', 'ls_temperature': 0.7}, 'parent_ids': ['2a10730d-6c3e-4e51-bdfc-d12150f3a5e1', '162ddcf1-12df-4a27-b69a-156df673100d']}\n",
      "{'event': 'on_chat_model_stream', 'data': {'chunk': AIMessageChunk(content=',', additional_kwargs={}, response_metadata={}, id='run--d11c837f-9147-417e-be07-0d7fa64de2a6')}, 'run_id': 'd11c837f-9147-417e-be07-0d7fa64de2a6', 'name': 'ChatGroq', 'tags': ['seq:step:1'], 'metadata': {'thread_id': '6', 'langgraph_step': 1, 'langgraph_node': 'superbot', 'langgraph_triggers': ('branch:to:superbot',), 'langgraph_path': ('__pregel_pull', 'superbot'), 'langgraph_checkpoint_ns': 'superbot:9626f236-0292-4936-54e9-8b3a6a6651b4', 'checkpoint_ns': 'superbot:9626f236-0292-4936-54e9-8b3a6a6651b4', 'ls_provider': 'groq', 'ls_model_name': 'llama-3.1-8b-instant', 'ls_model_type': 'chat', 'ls_temperature': 0.7}, 'parent_ids': ['2a10730d-6c3e-4e51-bdfc-d12150f3a5e1', '162ddcf1-12df-4a27-b69a-156df673100d']}\n",
      "{'event': 'on_chat_model_stream', 'data': {'chunk': AIMessageChunk(content=' nice', additional_kwargs={}, response_metadata={}, id='run--d11c837f-9147-417e-be07-0d7fa64de2a6')}, 'run_id': 'd11c837f-9147-417e-be07-0d7fa64de2a6', 'name': 'ChatGroq', 'tags': ['seq:step:1'], 'metadata': {'thread_id': '6', 'langgraph_step': 1, 'langgraph_node': 'superbot', 'langgraph_triggers': ('branch:to:superbot',), 'langgraph_path': ('__pregel_pull', 'superbot'), 'langgraph_checkpoint_ns': 'superbot:9626f236-0292-4936-54e9-8b3a6a6651b4', 'checkpoint_ns': 'superbot:9626f236-0292-4936-54e9-8b3a6a6651b4', 'ls_provider': 'groq', 'ls_model_name': 'llama-3.1-8b-instant', 'ls_model_type': 'chat', 'ls_temperature': 0.7}, 'parent_ids': ['2a10730d-6c3e-4e51-bdfc-d12150f3a5e1', '162ddcf1-12df-4a27-b69a-156df673100d']}\n",
      "{'event': 'on_chat_model_stream', 'data': {'chunk': AIMessageChunk(content=' to', additional_kwargs={}, response_metadata={}, id='run--d11c837f-9147-417e-be07-0d7fa64de2a6')}, 'run_id': 'd11c837f-9147-417e-be07-0d7fa64de2a6', 'name': 'ChatGroq', 'tags': ['seq:step:1'], 'metadata': {'thread_id': '6', 'langgraph_step': 1, 'langgraph_node': 'superbot', 'langgraph_triggers': ('branch:to:superbot',), 'langgraph_path': ('__pregel_pull', 'superbot'), 'langgraph_checkpoint_ns': 'superbot:9626f236-0292-4936-54e9-8b3a6a6651b4', 'checkpoint_ns': 'superbot:9626f236-0292-4936-54e9-8b3a6a6651b4', 'ls_provider': 'groq', 'ls_model_name': 'llama-3.1-8b-instant', 'ls_model_type': 'chat', 'ls_temperature': 0.7}, 'parent_ids': ['2a10730d-6c3e-4e51-bdfc-d12150f3a5e1', '162ddcf1-12df-4a27-b69a-156df673100d']}\n",
      "{'event': 'on_chat_model_stream', 'data': {'chunk': AIMessageChunk(content=' meet', additional_kwargs={}, response_metadata={}, id='run--d11c837f-9147-417e-be07-0d7fa64de2a6')}, 'run_id': 'd11c837f-9147-417e-be07-0d7fa64de2a6', 'name': 'ChatGroq', 'tags': ['seq:step:1'], 'metadata': {'thread_id': '6', 'langgraph_step': 1, 'langgraph_node': 'superbot', 'langgraph_triggers': ('branch:to:superbot',), 'langgraph_path': ('__pregel_pull', 'superbot'), 'langgraph_checkpoint_ns': 'superbot:9626f236-0292-4936-54e9-8b3a6a6651b4', 'checkpoint_ns': 'superbot:9626f236-0292-4936-54e9-8b3a6a6651b4', 'ls_provider': 'groq', 'ls_model_name': 'llama-3.1-8b-instant', 'ls_model_type': 'chat', 'ls_temperature': 0.7}, 'parent_ids': ['2a10730d-6c3e-4e51-bdfc-d12150f3a5e1', '162ddcf1-12df-4a27-b69a-156df673100d']}\n",
      "{'event': 'on_chat_model_stream', 'data': {'chunk': AIMessageChunk(content=' you', additional_kwargs={}, response_metadata={}, id='run--d11c837f-9147-417e-be07-0d7fa64de2a6')}, 'run_id': 'd11c837f-9147-417e-be07-0d7fa64de2a6', 'name': 'ChatGroq', 'tags': ['seq:step:1'], 'metadata': {'thread_id': '6', 'langgraph_step': 1, 'langgraph_node': 'superbot', 'langgraph_triggers': ('branch:to:superbot',), 'langgraph_path': ('__pregel_pull', 'superbot'), 'langgraph_checkpoint_ns': 'superbot:9626f236-0292-4936-54e9-8b3a6a6651b4', 'checkpoint_ns': 'superbot:9626f236-0292-4936-54e9-8b3a6a6651b4', 'ls_provider': 'groq', 'ls_model_name': 'llama-3.1-8b-instant', 'ls_model_type': 'chat', 'ls_temperature': 0.7}, 'parent_ids': ['2a10730d-6c3e-4e51-bdfc-d12150f3a5e1', '162ddcf1-12df-4a27-b69a-156df673100d']}\n",
      "{'event': 'on_chat_model_stream', 'data': {'chunk': AIMessageChunk(content='.', additional_kwargs={}, response_metadata={}, id='run--d11c837f-9147-417e-be07-0d7fa64de2a6')}, 'run_id': 'd11c837f-9147-417e-be07-0d7fa64de2a6', 'name': 'ChatGroq', 'tags': ['seq:step:1'], 'metadata': {'thread_id': '6', 'langgraph_step': 1, 'langgraph_node': 'superbot', 'langgraph_triggers': ('branch:to:superbot',), 'langgraph_path': ('__pregel_pull', 'superbot'), 'langgraph_checkpoint_ns': 'superbot:9626f236-0292-4936-54e9-8b3a6a6651b4', 'checkpoint_ns': 'superbot:9626f236-0292-4936-54e9-8b3a6a6651b4', 'ls_provider': 'groq', 'ls_model_name': 'llama-3.1-8b-instant', 'ls_model_type': 'chat', 'ls_temperature': 0.7}, 'parent_ids': ['2a10730d-6c3e-4e51-bdfc-d12150f3a5e1', '162ddcf1-12df-4a27-b69a-156df673100d']}\n",
      "{'event': 'on_chat_model_stream', 'data': {'chunk': AIMessageChunk(content=' That', additional_kwargs={}, response_metadata={}, id='run--d11c837f-9147-417e-be07-0d7fa64de2a6')}, 'run_id': 'd11c837f-9147-417e-be07-0d7fa64de2a6', 'name': 'ChatGroq', 'tags': ['seq:step:1'], 'metadata': {'thread_id': '6', 'langgraph_step': 1, 'langgraph_node': 'superbot', 'langgraph_triggers': ('branch:to:superbot',), 'langgraph_path': ('__pregel_pull', 'superbot'), 'langgraph_checkpoint_ns': 'superbot:9626f236-0292-4936-54e9-8b3a6a6651b4', 'checkpoint_ns': 'superbot:9626f236-0292-4936-54e9-8b3a6a6651b4', 'ls_provider': 'groq', 'ls_model_name': 'llama-3.1-8b-instant', 'ls_model_type': 'chat', 'ls_temperature': 0.7}, 'parent_ids': ['2a10730d-6c3e-4e51-bdfc-d12150f3a5e1', '162ddcf1-12df-4a27-b69a-156df673100d']}\n",
      "{'event': 'on_chat_model_stream', 'data': {'chunk': AIMessageChunk(content=\"'s\", additional_kwargs={}, response_metadata={}, id='run--d11c837f-9147-417e-be07-0d7fa64de2a6')}, 'run_id': 'd11c837f-9147-417e-be07-0d7fa64de2a6', 'name': 'ChatGroq', 'tags': ['seq:step:1'], 'metadata': {'thread_id': '6', 'langgraph_step': 1, 'langgraph_node': 'superbot', 'langgraph_triggers': ('branch:to:superbot',), 'langgraph_path': ('__pregel_pull', 'superbot'), 'langgraph_checkpoint_ns': 'superbot:9626f236-0292-4936-54e9-8b3a6a6651b4', 'checkpoint_ns': 'superbot:9626f236-0292-4936-54e9-8b3a6a6651b4', 'ls_provider': 'groq', 'ls_model_name': 'llama-3.1-8b-instant', 'ls_model_type': 'chat', 'ls_temperature': 0.7}, 'parent_ids': ['2a10730d-6c3e-4e51-bdfc-d12150f3a5e1', '162ddcf1-12df-4a27-b69a-156df673100d']}\n",
      "{'event': 'on_chat_model_stream', 'data': {'chunk': AIMessageChunk(content=' great', additional_kwargs={}, response_metadata={}, id='run--d11c837f-9147-417e-be07-0d7fa64de2a6')}, 'run_id': 'd11c837f-9147-417e-be07-0d7fa64de2a6', 'name': 'ChatGroq', 'tags': ['seq:step:1'], 'metadata': {'thread_id': '6', 'langgraph_step': 1, 'langgraph_node': 'superbot', 'langgraph_triggers': ('branch:to:superbot',), 'langgraph_path': ('__pregel_pull', 'superbot'), 'langgraph_checkpoint_ns': 'superbot:9626f236-0292-4936-54e9-8b3a6a6651b4', 'checkpoint_ns': 'superbot:9626f236-0292-4936-54e9-8b3a6a6651b4', 'ls_provider': 'groq', 'ls_model_name': 'llama-3.1-8b-instant', 'ls_model_type': 'chat', 'ls_temperature': 0.7}, 'parent_ids': ['2a10730d-6c3e-4e51-bdfc-d12150f3a5e1', '162ddcf1-12df-4a27-b69a-156df673100d']}\n",
      "{'event': 'on_chat_model_stream', 'data': {'chunk': AIMessageChunk(content=' to', additional_kwargs={}, response_metadata={}, id='run--d11c837f-9147-417e-be07-0d7fa64de2a6')}, 'run_id': 'd11c837f-9147-417e-be07-0d7fa64de2a6', 'name': 'ChatGroq', 'tags': ['seq:step:1'], 'metadata': {'thread_id': '6', 'langgraph_step': 1, 'langgraph_node': 'superbot', 'langgraph_triggers': ('branch:to:superbot',), 'langgraph_path': ('__pregel_pull', 'superbot'), 'langgraph_checkpoint_ns': 'superbot:9626f236-0292-4936-54e9-8b3a6a6651b4', 'checkpoint_ns': 'superbot:9626f236-0292-4936-54e9-8b3a6a6651b4', 'ls_provider': 'groq', 'ls_model_name': 'llama-3.1-8b-instant', 'ls_model_type': 'chat', 'ls_temperature': 0.7}, 'parent_ids': ['2a10730d-6c3e-4e51-bdfc-d12150f3a5e1', '162ddcf1-12df-4a27-b69a-156df673100d']}\n",
      "{'event': 'on_chat_model_stream', 'data': {'chunk': AIMessageChunk(content=' hear', additional_kwargs={}, response_metadata={}, id='run--d11c837f-9147-417e-be07-0d7fa64de2a6')}, 'run_id': 'd11c837f-9147-417e-be07-0d7fa64de2a6', 'name': 'ChatGroq', 'tags': ['seq:step:1'], 'metadata': {'thread_id': '6', 'langgraph_step': 1, 'langgraph_node': 'superbot', 'langgraph_triggers': ('branch:to:superbot',), 'langgraph_path': ('__pregel_pull', 'superbot'), 'langgraph_checkpoint_ns': 'superbot:9626f236-0292-4936-54e9-8b3a6a6651b4', 'checkpoint_ns': 'superbot:9626f236-0292-4936-54e9-8b3a6a6651b4', 'ls_provider': 'groq', 'ls_model_name': 'llama-3.1-8b-instant', 'ls_model_type': 'chat', 'ls_temperature': 0.7}, 'parent_ids': ['2a10730d-6c3e-4e51-bdfc-d12150f3a5e1', '162ddcf1-12df-4a27-b69a-156df673100d']}\n",
      "{'event': 'on_chat_model_stream', 'data': {'chunk': AIMessageChunk(content=' that', additional_kwargs={}, response_metadata={}, id='run--d11c837f-9147-417e-be07-0d7fa64de2a6')}, 'run_id': 'd11c837f-9147-417e-be07-0d7fa64de2a6', 'name': 'ChatGroq', 'tags': ['seq:step:1'], 'metadata': {'thread_id': '6', 'langgraph_step': 1, 'langgraph_node': 'superbot', 'langgraph_triggers': ('branch:to:superbot',), 'langgraph_path': ('__pregel_pull', 'superbot'), 'langgraph_checkpoint_ns': 'superbot:9626f236-0292-4936-54e9-8b3a6a6651b4', 'checkpoint_ns': 'superbot:9626f236-0292-4936-54e9-8b3a6a6651b4', 'ls_provider': 'groq', 'ls_model_name': 'llama-3.1-8b-instant', 'ls_model_type': 'chat', 'ls_temperature': 0.7}, 'parent_ids': ['2a10730d-6c3e-4e51-bdfc-d12150f3a5e1', '162ddcf1-12df-4a27-b69a-156df673100d']}\n",
      "{'event': 'on_chat_model_stream', 'data': {'chunk': AIMessageChunk(content=' you', additional_kwargs={}, response_metadata={}, id='run--d11c837f-9147-417e-be07-0d7fa64de2a6')}, 'run_id': 'd11c837f-9147-417e-be07-0d7fa64de2a6', 'name': 'ChatGroq', 'tags': ['seq:step:1'], 'metadata': {'thread_id': '6', 'langgraph_step': 1, 'langgraph_node': 'superbot', 'langgraph_triggers': ('branch:to:superbot',), 'langgraph_path': ('__pregel_pull', 'superbot'), 'langgraph_checkpoint_ns': 'superbot:9626f236-0292-4936-54e9-8b3a6a6651b4', 'checkpoint_ns': 'superbot:9626f236-0292-4936-54e9-8b3a6a6651b4', 'ls_provider': 'groq', 'ls_model_name': 'llama-3.1-8b-instant', 'ls_model_type': 'chat', 'ls_temperature': 0.7}, 'parent_ids': ['2a10730d-6c3e-4e51-bdfc-d12150f3a5e1', '162ddcf1-12df-4a27-b69a-156df673100d']}\n",
      "{'event': 'on_chat_model_stream', 'data': {'chunk': AIMessageChunk(content=' like', additional_kwargs={}, response_metadata={}, id='run--d11c837f-9147-417e-be07-0d7fa64de2a6')}, 'run_id': 'd11c837f-9147-417e-be07-0d7fa64de2a6', 'name': 'ChatGroq', 'tags': ['seq:step:1'], 'metadata': {'thread_id': '6', 'langgraph_step': 1, 'langgraph_node': 'superbot', 'langgraph_triggers': ('branch:to:superbot',), 'langgraph_path': ('__pregel_pull', 'superbot'), 'langgraph_checkpoint_ns': 'superbot:9626f236-0292-4936-54e9-8b3a6a6651b4', 'checkpoint_ns': 'superbot:9626f236-0292-4936-54e9-8b3a6a6651b4', 'ls_provider': 'groq', 'ls_model_name': 'llama-3.1-8b-instant', 'ls_model_type': 'chat', 'ls_temperature': 0.7}, 'parent_ids': ['2a10730d-6c3e-4e51-bdfc-d12150f3a5e1', '162ddcf1-12df-4a27-b69a-156df673100d']}\n",
      "{'event': 'on_chat_model_stream', 'data': {'chunk': AIMessageChunk(content=' bad', additional_kwargs={}, response_metadata={}, id='run--d11c837f-9147-417e-be07-0d7fa64de2a6')}, 'run_id': 'd11c837f-9147-417e-be07-0d7fa64de2a6', 'name': 'ChatGroq', 'tags': ['seq:step:1'], 'metadata': {'thread_id': '6', 'langgraph_step': 1, 'langgraph_node': 'superbot', 'langgraph_triggers': ('branch:to:superbot',), 'langgraph_path': ('__pregel_pull', 'superbot'), 'langgraph_checkpoint_ns': 'superbot:9626f236-0292-4936-54e9-8b3a6a6651b4', 'checkpoint_ns': 'superbot:9626f236-0292-4936-54e9-8b3a6a6651b4', 'ls_provider': 'groq', 'ls_model_name': 'llama-3.1-8b-instant', 'ls_model_type': 'chat', 'ls_temperature': 0.7}, 'parent_ids': ['2a10730d-6c3e-4e51-bdfc-d12150f3a5e1', '162ddcf1-12df-4a27-b69a-156df673100d']}\n",
      "{'event': 'on_chat_model_stream', 'data': {'chunk': AIMessageChunk(content='m', additional_kwargs={}, response_metadata={}, id='run--d11c837f-9147-417e-be07-0d7fa64de2a6')}, 'run_id': 'd11c837f-9147-417e-be07-0d7fa64de2a6', 'name': 'ChatGroq', 'tags': ['seq:step:1'], 'metadata': {'thread_id': '6', 'langgraph_step': 1, 'langgraph_node': 'superbot', 'langgraph_triggers': ('branch:to:superbot',), 'langgraph_path': ('__pregel_pull', 'superbot'), 'langgraph_checkpoint_ns': 'superbot:9626f236-0292-4936-54e9-8b3a6a6651b4', 'checkpoint_ns': 'superbot:9626f236-0292-4936-54e9-8b3a6a6651b4', 'ls_provider': 'groq', 'ls_model_name': 'llama-3.1-8b-instant', 'ls_model_type': 'chat', 'ls_temperature': 0.7}, 'parent_ids': ['2a10730d-6c3e-4e51-bdfc-d12150f3a5e1', '162ddcf1-12df-4a27-b69a-156df673100d']}\n",
      "{'event': 'on_chat_model_stream', 'data': {'chunk': AIMessageChunk(content='inton', additional_kwargs={}, response_metadata={}, id='run--d11c837f-9147-417e-be07-0d7fa64de2a6')}, 'run_id': 'd11c837f-9147-417e-be07-0d7fa64de2a6', 'name': 'ChatGroq', 'tags': ['seq:step:1'], 'metadata': {'thread_id': '6', 'langgraph_step': 1, 'langgraph_node': 'superbot', 'langgraph_triggers': ('branch:to:superbot',), 'langgraph_path': ('__pregel_pull', 'superbot'), 'langgraph_checkpoint_ns': 'superbot:9626f236-0292-4936-54e9-8b3a6a6651b4', 'checkpoint_ns': 'superbot:9626f236-0292-4936-54e9-8b3a6a6651b4', 'ls_provider': 'groq', 'ls_model_name': 'llama-3.1-8b-instant', 'ls_model_type': 'chat', 'ls_temperature': 0.7}, 'parent_ids': ['2a10730d-6c3e-4e51-bdfc-d12150f3a5e1', '162ddcf1-12df-4a27-b69a-156df673100d']}\n",
      "{'event': 'on_chat_model_stream', 'data': {'chunk': AIMessageChunk(content='.', additional_kwargs={}, response_metadata={}, id='run--d11c837f-9147-417e-be07-0d7fa64de2a6')}, 'run_id': 'd11c837f-9147-417e-be07-0d7fa64de2a6', 'name': 'ChatGroq', 'tags': ['seq:step:1'], 'metadata': {'thread_id': '6', 'langgraph_step': 1, 'langgraph_node': 'superbot', 'langgraph_triggers': ('branch:to:superbot',), 'langgraph_path': ('__pregel_pull', 'superbot'), 'langgraph_checkpoint_ns': 'superbot:9626f236-0292-4936-54e9-8b3a6a6651b4', 'checkpoint_ns': 'superbot:9626f236-0292-4936-54e9-8b3a6a6651b4', 'ls_provider': 'groq', 'ls_model_name': 'llama-3.1-8b-instant', 'ls_model_type': 'chat', 'ls_temperature': 0.7}, 'parent_ids': ['2a10730d-6c3e-4e51-bdfc-d12150f3a5e1', '162ddcf1-12df-4a27-b69a-156df673100d']}\n",
      "{'event': 'on_chat_model_stream', 'data': {'chunk': AIMessageChunk(content=' It', additional_kwargs={}, response_metadata={}, id='run--d11c837f-9147-417e-be07-0d7fa64de2a6')}, 'run_id': 'd11c837f-9147-417e-be07-0d7fa64de2a6', 'name': 'ChatGroq', 'tags': ['seq:step:1'], 'metadata': {'thread_id': '6', 'langgraph_step': 1, 'langgraph_node': 'superbot', 'langgraph_triggers': ('branch:to:superbot',), 'langgraph_path': ('__pregel_pull', 'superbot'), 'langgraph_checkpoint_ns': 'superbot:9626f236-0292-4936-54e9-8b3a6a6651b4', 'checkpoint_ns': 'superbot:9626f236-0292-4936-54e9-8b3a6a6651b4', 'ls_provider': 'groq', 'ls_model_name': 'llama-3.1-8b-instant', 'ls_model_type': 'chat', 'ls_temperature': 0.7}, 'parent_ids': ['2a10730d-6c3e-4e51-bdfc-d12150f3a5e1', '162ddcf1-12df-4a27-b69a-156df673100d']}\n",
      "{'event': 'on_chat_model_stream', 'data': {'chunk': AIMessageChunk(content=\"'s\", additional_kwargs={}, response_metadata={}, id='run--d11c837f-9147-417e-be07-0d7fa64de2a6')}, 'run_id': 'd11c837f-9147-417e-be07-0d7fa64de2a6', 'name': 'ChatGroq', 'tags': ['seq:step:1'], 'metadata': {'thread_id': '6', 'langgraph_step': 1, 'langgraph_node': 'superbot', 'langgraph_triggers': ('branch:to:superbot',), 'langgraph_path': ('__pregel_pull', 'superbot'), 'langgraph_checkpoint_ns': 'superbot:9626f236-0292-4936-54e9-8b3a6a6651b4', 'checkpoint_ns': 'superbot:9626f236-0292-4936-54e9-8b3a6a6651b4', 'ls_provider': 'groq', 'ls_model_name': 'llama-3.1-8b-instant', 'ls_model_type': 'chat', 'ls_temperature': 0.7}, 'parent_ids': ['2a10730d-6c3e-4e51-bdfc-d12150f3a5e1', '162ddcf1-12df-4a27-b69a-156df673100d']}\n",
      "{'event': 'on_chat_model_stream', 'data': {'chunk': AIMessageChunk(content=' a', additional_kwargs={}, response_metadata={}, id='run--d11c837f-9147-417e-be07-0d7fa64de2a6')}, 'run_id': 'd11c837f-9147-417e-be07-0d7fa64de2a6', 'name': 'ChatGroq', 'tags': ['seq:step:1'], 'metadata': {'thread_id': '6', 'langgraph_step': 1, 'langgraph_node': 'superbot', 'langgraph_triggers': ('branch:to:superbot',), 'langgraph_path': ('__pregel_pull', 'superbot'), 'langgraph_checkpoint_ns': 'superbot:9626f236-0292-4936-54e9-8b3a6a6651b4', 'checkpoint_ns': 'superbot:9626f236-0292-4936-54e9-8b3a6a6651b4', 'ls_provider': 'groq', 'ls_model_name': 'llama-3.1-8b-instant', 'ls_model_type': 'chat', 'ls_temperature': 0.7}, 'parent_ids': ['2a10730d-6c3e-4e51-bdfc-d12150f3a5e1', '162ddcf1-12df-4a27-b69a-156df673100d']}\n",
      "{'event': 'on_chat_model_stream', 'data': {'chunk': AIMessageChunk(content=' fantastic', additional_kwargs={}, response_metadata={}, id='run--d11c837f-9147-417e-be07-0d7fa64de2a6')}, 'run_id': 'd11c837f-9147-417e-be07-0d7fa64de2a6', 'name': 'ChatGroq', 'tags': ['seq:step:1'], 'metadata': {'thread_id': '6', 'langgraph_step': 1, 'langgraph_node': 'superbot', 'langgraph_triggers': ('branch:to:superbot',), 'langgraph_path': ('__pregel_pull', 'superbot'), 'langgraph_checkpoint_ns': 'superbot:9626f236-0292-4936-54e9-8b3a6a6651b4', 'checkpoint_ns': 'superbot:9626f236-0292-4936-54e9-8b3a6a6651b4', 'ls_provider': 'groq', 'ls_model_name': 'llama-3.1-8b-instant', 'ls_model_type': 'chat', 'ls_temperature': 0.7}, 'parent_ids': ['2a10730d-6c3e-4e51-bdfc-d12150f3a5e1', '162ddcf1-12df-4a27-b69a-156df673100d']}\n",
      "{'event': 'on_chat_model_stream', 'data': {'chunk': AIMessageChunk(content=' sport', additional_kwargs={}, response_metadata={}, id='run--d11c837f-9147-417e-be07-0d7fa64de2a6')}, 'run_id': 'd11c837f-9147-417e-be07-0d7fa64de2a6', 'name': 'ChatGroq', 'tags': ['seq:step:1'], 'metadata': {'thread_id': '6', 'langgraph_step': 1, 'langgraph_node': 'superbot', 'langgraph_triggers': ('branch:to:superbot',), 'langgraph_path': ('__pregel_pull', 'superbot'), 'langgraph_checkpoint_ns': 'superbot:9626f236-0292-4936-54e9-8b3a6a6651b4', 'checkpoint_ns': 'superbot:9626f236-0292-4936-54e9-8b3a6a6651b4', 'ls_provider': 'groq', 'ls_model_name': 'llama-3.1-8b-instant', 'ls_model_type': 'chat', 'ls_temperature': 0.7}, 'parent_ids': ['2a10730d-6c3e-4e51-bdfc-d12150f3a5e1', '162ddcf1-12df-4a27-b69a-156df673100d']}\n",
      "{'event': 'on_chat_model_stream', 'data': {'chunk': AIMessageChunk(content=' that', additional_kwargs={}, response_metadata={}, id='run--d11c837f-9147-417e-be07-0d7fa64de2a6')}, 'run_id': 'd11c837f-9147-417e-be07-0d7fa64de2a6', 'name': 'ChatGroq', 'tags': ['seq:step:1'], 'metadata': {'thread_id': '6', 'langgraph_step': 1, 'langgraph_node': 'superbot', 'langgraph_triggers': ('branch:to:superbot',), 'langgraph_path': ('__pregel_pull', 'superbot'), 'langgraph_checkpoint_ns': 'superbot:9626f236-0292-4936-54e9-8b3a6a6651b4', 'checkpoint_ns': 'superbot:9626f236-0292-4936-54e9-8b3a6a6651b4', 'ls_provider': 'groq', 'ls_model_name': 'llama-3.1-8b-instant', 'ls_model_type': 'chat', 'ls_temperature': 0.7}, 'parent_ids': ['2a10730d-6c3e-4e51-bdfc-d12150f3a5e1', '162ddcf1-12df-4a27-b69a-156df673100d']}\n",
      "{'event': 'on_chat_model_stream', 'data': {'chunk': AIMessageChunk(content=' requires', additional_kwargs={}, response_metadata={}, id='run--d11c837f-9147-417e-be07-0d7fa64de2a6')}, 'run_id': 'd11c837f-9147-417e-be07-0d7fa64de2a6', 'name': 'ChatGroq', 'tags': ['seq:step:1'], 'metadata': {'thread_id': '6', 'langgraph_step': 1, 'langgraph_node': 'superbot', 'langgraph_triggers': ('branch:to:superbot',), 'langgraph_path': ('__pregel_pull', 'superbot'), 'langgraph_checkpoint_ns': 'superbot:9626f236-0292-4936-54e9-8b3a6a6651b4', 'checkpoint_ns': 'superbot:9626f236-0292-4936-54e9-8b3a6a6651b4', 'ls_provider': 'groq', 'ls_model_name': 'llama-3.1-8b-instant', 'ls_model_type': 'chat', 'ls_temperature': 0.7}, 'parent_ids': ['2a10730d-6c3e-4e51-bdfc-d12150f3a5e1', '162ddcf1-12df-4a27-b69a-156df673100d']}\n",
      "{'event': 'on_chat_model_stream', 'data': {'chunk': AIMessageChunk(content=' skill', additional_kwargs={}, response_metadata={}, id='run--d11c837f-9147-417e-be07-0d7fa64de2a6')}, 'run_id': 'd11c837f-9147-417e-be07-0d7fa64de2a6', 'name': 'ChatGroq', 'tags': ['seq:step:1'], 'metadata': {'thread_id': '6', 'langgraph_step': 1, 'langgraph_node': 'superbot', 'langgraph_triggers': ('branch:to:superbot',), 'langgraph_path': ('__pregel_pull', 'superbot'), 'langgraph_checkpoint_ns': 'superbot:9626f236-0292-4936-54e9-8b3a6a6651b4', 'checkpoint_ns': 'superbot:9626f236-0292-4936-54e9-8b3a6a6651b4', 'ls_provider': 'groq', 'ls_model_name': 'llama-3.1-8b-instant', 'ls_model_type': 'chat', 'ls_temperature': 0.7}, 'parent_ids': ['2a10730d-6c3e-4e51-bdfc-d12150f3a5e1', '162ddcf1-12df-4a27-b69a-156df673100d']}\n",
      "{'event': 'on_chat_model_stream', 'data': {'chunk': AIMessageChunk(content=',', additional_kwargs={}, response_metadata={}, id='run--d11c837f-9147-417e-be07-0d7fa64de2a6')}, 'run_id': 'd11c837f-9147-417e-be07-0d7fa64de2a6', 'name': 'ChatGroq', 'tags': ['seq:step:1'], 'metadata': {'thread_id': '6', 'langgraph_step': 1, 'langgraph_node': 'superbot', 'langgraph_triggers': ('branch:to:superbot',), 'langgraph_path': ('__pregel_pull', 'superbot'), 'langgraph_checkpoint_ns': 'superbot:9626f236-0292-4936-54e9-8b3a6a6651b4', 'checkpoint_ns': 'superbot:9626f236-0292-4936-54e9-8b3a6a6651b4', 'ls_provider': 'groq', 'ls_model_name': 'llama-3.1-8b-instant', 'ls_model_type': 'chat', 'ls_temperature': 0.7}, 'parent_ids': ['2a10730d-6c3e-4e51-bdfc-d12150f3a5e1', '162ddcf1-12df-4a27-b69a-156df673100d']}\n",
      "{'event': 'on_chat_model_stream', 'data': {'chunk': AIMessageChunk(content=' strategy', additional_kwargs={}, response_metadata={}, id='run--d11c837f-9147-417e-be07-0d7fa64de2a6')}, 'run_id': 'd11c837f-9147-417e-be07-0d7fa64de2a6', 'name': 'ChatGroq', 'tags': ['seq:step:1'], 'metadata': {'thread_id': '6', 'langgraph_step': 1, 'langgraph_node': 'superbot', 'langgraph_triggers': ('branch:to:superbot',), 'langgraph_path': ('__pregel_pull', 'superbot'), 'langgraph_checkpoint_ns': 'superbot:9626f236-0292-4936-54e9-8b3a6a6651b4', 'checkpoint_ns': 'superbot:9626f236-0292-4936-54e9-8b3a6a6651b4', 'ls_provider': 'groq', 'ls_model_name': 'llama-3.1-8b-instant', 'ls_model_type': 'chat', 'ls_temperature': 0.7}, 'parent_ids': ['2a10730d-6c3e-4e51-bdfc-d12150f3a5e1', '162ddcf1-12df-4a27-b69a-156df673100d']}\n",
      "{'event': 'on_chat_model_stream', 'data': {'chunk': AIMessageChunk(content=',', additional_kwargs={}, response_metadata={}, id='run--d11c837f-9147-417e-be07-0d7fa64de2a6')}, 'run_id': 'd11c837f-9147-417e-be07-0d7fa64de2a6', 'name': 'ChatGroq', 'tags': ['seq:step:1'], 'metadata': {'thread_id': '6', 'langgraph_step': 1, 'langgraph_node': 'superbot', 'langgraph_triggers': ('branch:to:superbot',), 'langgraph_path': ('__pregel_pull', 'superbot'), 'langgraph_checkpoint_ns': 'superbot:9626f236-0292-4936-54e9-8b3a6a6651b4', 'checkpoint_ns': 'superbot:9626f236-0292-4936-54e9-8b3a6a6651b4', 'ls_provider': 'groq', 'ls_model_name': 'llama-3.1-8b-instant', 'ls_model_type': 'chat', 'ls_temperature': 0.7}, 'parent_ids': ['2a10730d-6c3e-4e51-bdfc-d12150f3a5e1', '162ddcf1-12df-4a27-b69a-156df673100d']}\n",
      "{'event': 'on_chat_model_stream', 'data': {'chunk': AIMessageChunk(content=' and', additional_kwargs={}, response_metadata={}, id='run--d11c837f-9147-417e-be07-0d7fa64de2a6')}, 'run_id': 'd11c837f-9147-417e-be07-0d7fa64de2a6', 'name': 'ChatGroq', 'tags': ['seq:step:1'], 'metadata': {'thread_id': '6', 'langgraph_step': 1, 'langgraph_node': 'superbot', 'langgraph_triggers': ('branch:to:superbot',), 'langgraph_path': ('__pregel_pull', 'superbot'), 'langgraph_checkpoint_ns': 'superbot:9626f236-0292-4936-54e9-8b3a6a6651b4', 'checkpoint_ns': 'superbot:9626f236-0292-4936-54e9-8b3a6a6651b4', 'ls_provider': 'groq', 'ls_model_name': 'llama-3.1-8b-instant', 'ls_model_type': 'chat', 'ls_temperature': 0.7}, 'parent_ids': ['2a10730d-6c3e-4e51-bdfc-d12150f3a5e1', '162ddcf1-12df-4a27-b69a-156df673100d']}\n",
      "{'event': 'on_chat_model_stream', 'data': {'chunk': AIMessageChunk(content=' physical', additional_kwargs={}, response_metadata={}, id='run--d11c837f-9147-417e-be07-0d7fa64de2a6')}, 'run_id': 'd11c837f-9147-417e-be07-0d7fa64de2a6', 'name': 'ChatGroq', 'tags': ['seq:step:1'], 'metadata': {'thread_id': '6', 'langgraph_step': 1, 'langgraph_node': 'superbot', 'langgraph_triggers': ('branch:to:superbot',), 'langgraph_path': ('__pregel_pull', 'superbot'), 'langgraph_checkpoint_ns': 'superbot:9626f236-0292-4936-54e9-8b3a6a6651b4', 'checkpoint_ns': 'superbot:9626f236-0292-4936-54e9-8b3a6a6651b4', 'ls_provider': 'groq', 'ls_model_name': 'llama-3.1-8b-instant', 'ls_model_type': 'chat', 'ls_temperature': 0.7}, 'parent_ids': ['2a10730d-6c3e-4e51-bdfc-d12150f3a5e1', '162ddcf1-12df-4a27-b69a-156df673100d']}\n",
      "{'event': 'on_chat_model_stream', 'data': {'chunk': AIMessageChunk(content=' fitness', additional_kwargs={}, response_metadata={}, id='run--d11c837f-9147-417e-be07-0d7fa64de2a6')}, 'run_id': 'd11c837f-9147-417e-be07-0d7fa64de2a6', 'name': 'ChatGroq', 'tags': ['seq:step:1'], 'metadata': {'thread_id': '6', 'langgraph_step': 1, 'langgraph_node': 'superbot', 'langgraph_triggers': ('branch:to:superbot',), 'langgraph_path': ('__pregel_pull', 'superbot'), 'langgraph_checkpoint_ns': 'superbot:9626f236-0292-4936-54e9-8b3a6a6651b4', 'checkpoint_ns': 'superbot:9626f236-0292-4936-54e9-8b3a6a6651b4', 'ls_provider': 'groq', 'ls_model_name': 'llama-3.1-8b-instant', 'ls_model_type': 'chat', 'ls_temperature': 0.7}, 'parent_ids': ['2a10730d-6c3e-4e51-bdfc-d12150f3a5e1', '162ddcf1-12df-4a27-b69a-156df673100d']}\n",
      "{'event': 'on_chat_model_stream', 'data': {'chunk': AIMessageChunk(content='.', additional_kwargs={}, response_metadata={}, id='run--d11c837f-9147-417e-be07-0d7fa64de2a6')}, 'run_id': 'd11c837f-9147-417e-be07-0d7fa64de2a6', 'name': 'ChatGroq', 'tags': ['seq:step:1'], 'metadata': {'thread_id': '6', 'langgraph_step': 1, 'langgraph_node': 'superbot', 'langgraph_triggers': ('branch:to:superbot',), 'langgraph_path': ('__pregel_pull', 'superbot'), 'langgraph_checkpoint_ns': 'superbot:9626f236-0292-4936-54e9-8b3a6a6651b4', 'checkpoint_ns': 'superbot:9626f236-0292-4936-54e9-8b3a6a6651b4', 'ls_provider': 'groq', 'ls_model_name': 'llama-3.1-8b-instant', 'ls_model_type': 'chat', 'ls_temperature': 0.7}, 'parent_ids': ['2a10730d-6c3e-4e51-bdfc-d12150f3a5e1', '162ddcf1-12df-4a27-b69a-156df673100d']}\n",
      "{'event': 'on_chat_model_stream', 'data': {'chunk': AIMessageChunk(content=' Are', additional_kwargs={}, response_metadata={}, id='run--d11c837f-9147-417e-be07-0d7fa64de2a6')}, 'run_id': 'd11c837f-9147-417e-be07-0d7fa64de2a6', 'name': 'ChatGroq', 'tags': ['seq:step:1'], 'metadata': {'thread_id': '6', 'langgraph_step': 1, 'langgraph_node': 'superbot', 'langgraph_triggers': ('branch:to:superbot',), 'langgraph_path': ('__pregel_pull', 'superbot'), 'langgraph_checkpoint_ns': 'superbot:9626f236-0292-4936-54e9-8b3a6a6651b4', 'checkpoint_ns': 'superbot:9626f236-0292-4936-54e9-8b3a6a6651b4', 'ls_provider': 'groq', 'ls_model_name': 'llama-3.1-8b-instant', 'ls_model_type': 'chat', 'ls_temperature': 0.7}, 'parent_ids': ['2a10730d-6c3e-4e51-bdfc-d12150f3a5e1', '162ddcf1-12df-4a27-b69a-156df673100d']}\n",
      "{'event': 'on_chat_model_stream', 'data': {'chunk': AIMessageChunk(content=' you', additional_kwargs={}, response_metadata={}, id='run--d11c837f-9147-417e-be07-0d7fa64de2a6')}, 'run_id': 'd11c837f-9147-417e-be07-0d7fa64de2a6', 'name': 'ChatGroq', 'tags': ['seq:step:1'], 'metadata': {'thread_id': '6', 'langgraph_step': 1, 'langgraph_node': 'superbot', 'langgraph_triggers': ('branch:to:superbot',), 'langgraph_path': ('__pregel_pull', 'superbot'), 'langgraph_checkpoint_ns': 'superbot:9626f236-0292-4936-54e9-8b3a6a6651b4', 'checkpoint_ns': 'superbot:9626f236-0292-4936-54e9-8b3a6a6651b4', 'ls_provider': 'groq', 'ls_model_name': 'llama-3.1-8b-instant', 'ls_model_type': 'chat', 'ls_temperature': 0.7}, 'parent_ids': ['2a10730d-6c3e-4e51-bdfc-d12150f3a5e1', '162ddcf1-12df-4a27-b69a-156df673100d']}\n",
      "{'event': 'on_chat_model_stream', 'data': {'chunk': AIMessageChunk(content=' an', additional_kwargs={}, response_metadata={}, id='run--d11c837f-9147-417e-be07-0d7fa64de2a6')}, 'run_id': 'd11c837f-9147-417e-be07-0d7fa64de2a6', 'name': 'ChatGroq', 'tags': ['seq:step:1'], 'metadata': {'thread_id': '6', 'langgraph_step': 1, 'langgraph_node': 'superbot', 'langgraph_triggers': ('branch:to:superbot',), 'langgraph_path': ('__pregel_pull', 'superbot'), 'langgraph_checkpoint_ns': 'superbot:9626f236-0292-4936-54e9-8b3a6a6651b4', 'checkpoint_ns': 'superbot:9626f236-0292-4936-54e9-8b3a6a6651b4', 'ls_provider': 'groq', 'ls_model_name': 'llama-3.1-8b-instant', 'ls_model_type': 'chat', 'ls_temperature': 0.7}, 'parent_ids': ['2a10730d-6c3e-4e51-bdfc-d12150f3a5e1', '162ddcf1-12df-4a27-b69a-156df673100d']}\n",
      "{'event': 'on_chat_model_stream', 'data': {'chunk': AIMessageChunk(content=' avid', additional_kwargs={}, response_metadata={}, id='run--d11c837f-9147-417e-be07-0d7fa64de2a6')}, 'run_id': 'd11c837f-9147-417e-be07-0d7fa64de2a6', 'name': 'ChatGroq', 'tags': ['seq:step:1'], 'metadata': {'thread_id': '6', 'langgraph_step': 1, 'langgraph_node': 'superbot', 'langgraph_triggers': ('branch:to:superbot',), 'langgraph_path': ('__pregel_pull', 'superbot'), 'langgraph_checkpoint_ns': 'superbot:9626f236-0292-4936-54e9-8b3a6a6651b4', 'checkpoint_ns': 'superbot:9626f236-0292-4936-54e9-8b3a6a6651b4', 'ls_provider': 'groq', 'ls_model_name': 'llama-3.1-8b-instant', 'ls_model_type': 'chat', 'ls_temperature': 0.7}, 'parent_ids': ['2a10730d-6c3e-4e51-bdfc-d12150f3a5e1', '162ddcf1-12df-4a27-b69a-156df673100d']}\n",
      "{'event': 'on_chat_model_stream', 'data': {'chunk': AIMessageChunk(content=' player', additional_kwargs={}, response_metadata={}, id='run--d11c837f-9147-417e-be07-0d7fa64de2a6')}, 'run_id': 'd11c837f-9147-417e-be07-0d7fa64de2a6', 'name': 'ChatGroq', 'tags': ['seq:step:1'], 'metadata': {'thread_id': '6', 'langgraph_step': 1, 'langgraph_node': 'superbot', 'langgraph_triggers': ('branch:to:superbot',), 'langgraph_path': ('__pregel_pull', 'superbot'), 'langgraph_checkpoint_ns': 'superbot:9626f236-0292-4936-54e9-8b3a6a6651b4', 'checkpoint_ns': 'superbot:9626f236-0292-4936-54e9-8b3a6a6651b4', 'ls_provider': 'groq', 'ls_model_name': 'llama-3.1-8b-instant', 'ls_model_type': 'chat', 'ls_temperature': 0.7}, 'parent_ids': ['2a10730d-6c3e-4e51-bdfc-d12150f3a5e1', '162ddcf1-12df-4a27-b69a-156df673100d']}\n",
      "{'event': 'on_chat_model_stream', 'data': {'chunk': AIMessageChunk(content=' or', additional_kwargs={}, response_metadata={}, id='run--d11c837f-9147-417e-be07-0d7fa64de2a6')}, 'run_id': 'd11c837f-9147-417e-be07-0d7fa64de2a6', 'name': 'ChatGroq', 'tags': ['seq:step:1'], 'metadata': {'thread_id': '6', 'langgraph_step': 1, 'langgraph_node': 'superbot', 'langgraph_triggers': ('branch:to:superbot',), 'langgraph_path': ('__pregel_pull', 'superbot'), 'langgraph_checkpoint_ns': 'superbot:9626f236-0292-4936-54e9-8b3a6a6651b4', 'checkpoint_ns': 'superbot:9626f236-0292-4936-54e9-8b3a6a6651b4', 'ls_provider': 'groq', 'ls_model_name': 'llama-3.1-8b-instant', 'ls_model_type': 'chat', 'ls_temperature': 0.7}, 'parent_ids': ['2a10730d-6c3e-4e51-bdfc-d12150f3a5e1', '162ddcf1-12df-4a27-b69a-156df673100d']}\n",
      "{'event': 'on_chat_model_stream', 'data': {'chunk': AIMessageChunk(content=' just', additional_kwargs={}, response_metadata={}, id='run--d11c837f-9147-417e-be07-0d7fa64de2a6')}, 'run_id': 'd11c837f-9147-417e-be07-0d7fa64de2a6', 'name': 'ChatGroq', 'tags': ['seq:step:1'], 'metadata': {'thread_id': '6', 'langgraph_step': 1, 'langgraph_node': 'superbot', 'langgraph_triggers': ('branch:to:superbot',), 'langgraph_path': ('__pregel_pull', 'superbot'), 'langgraph_checkpoint_ns': 'superbot:9626f236-0292-4936-54e9-8b3a6a6651b4', 'checkpoint_ns': 'superbot:9626f236-0292-4936-54e9-8b3a6a6651b4', 'ls_provider': 'groq', 'ls_model_name': 'llama-3.1-8b-instant', 'ls_model_type': 'chat', 'ls_temperature': 0.7}, 'parent_ids': ['2a10730d-6c3e-4e51-bdfc-d12150f3a5e1', '162ddcf1-12df-4a27-b69a-156df673100d']}\n",
      "{'event': 'on_chat_model_stream', 'data': {'chunk': AIMessageChunk(content=' a', additional_kwargs={}, response_metadata={}, id='run--d11c837f-9147-417e-be07-0d7fa64de2a6')}, 'run_id': 'd11c837f-9147-417e-be07-0d7fa64de2a6', 'name': 'ChatGroq', 'tags': ['seq:step:1'], 'metadata': {'thread_id': '6', 'langgraph_step': 1, 'langgraph_node': 'superbot', 'langgraph_triggers': ('branch:to:superbot',), 'langgraph_path': ('__pregel_pull', 'superbot'), 'langgraph_checkpoint_ns': 'superbot:9626f236-0292-4936-54e9-8b3a6a6651b4', 'checkpoint_ns': 'superbot:9626f236-0292-4936-54e9-8b3a6a6651b4', 'ls_provider': 'groq', 'ls_model_name': 'llama-3.1-8b-instant', 'ls_model_type': 'chat', 'ls_temperature': 0.7}, 'parent_ids': ['2a10730d-6c3e-4e51-bdfc-d12150f3a5e1', '162ddcf1-12df-4a27-b69a-156df673100d']}\n",
      "{'event': 'on_chat_model_stream', 'data': {'chunk': AIMessageChunk(content=' casual', additional_kwargs={}, response_metadata={}, id='run--d11c837f-9147-417e-be07-0d7fa64de2a6')}, 'run_id': 'd11c837f-9147-417e-be07-0d7fa64de2a6', 'name': 'ChatGroq', 'tags': ['seq:step:1'], 'metadata': {'thread_id': '6', 'langgraph_step': 1, 'langgraph_node': 'superbot', 'langgraph_triggers': ('branch:to:superbot',), 'langgraph_path': ('__pregel_pull', 'superbot'), 'langgraph_checkpoint_ns': 'superbot:9626f236-0292-4936-54e9-8b3a6a6651b4', 'checkpoint_ns': 'superbot:9626f236-0292-4936-54e9-8b3a6a6651b4', 'ls_provider': 'groq', 'ls_model_name': 'llama-3.1-8b-instant', 'ls_model_type': 'chat', 'ls_temperature': 0.7}, 'parent_ids': ['2a10730d-6c3e-4e51-bdfc-d12150f3a5e1', '162ddcf1-12df-4a27-b69a-156df673100d']}\n",
      "{'event': 'on_chat_model_stream', 'data': {'chunk': AIMessageChunk(content=' enthusiast', additional_kwargs={}, response_metadata={}, id='run--d11c837f-9147-417e-be07-0d7fa64de2a6')}, 'run_id': 'd11c837f-9147-417e-be07-0d7fa64de2a6', 'name': 'ChatGroq', 'tags': ['seq:step:1'], 'metadata': {'thread_id': '6', 'langgraph_step': 1, 'langgraph_node': 'superbot', 'langgraph_triggers': ('branch:to:superbot',), 'langgraph_path': ('__pregel_pull', 'superbot'), 'langgraph_checkpoint_ns': 'superbot:9626f236-0292-4936-54e9-8b3a6a6651b4', 'checkpoint_ns': 'superbot:9626f236-0292-4936-54e9-8b3a6a6651b4', 'ls_provider': 'groq', 'ls_model_name': 'llama-3.1-8b-instant', 'ls_model_type': 'chat', 'ls_temperature': 0.7}, 'parent_ids': ['2a10730d-6c3e-4e51-bdfc-d12150f3a5e1', '162ddcf1-12df-4a27-b69a-156df673100d']}\n",
      "{'event': 'on_chat_model_stream', 'data': {'chunk': AIMessageChunk(content='?', additional_kwargs={}, response_metadata={}, id='run--d11c837f-9147-417e-be07-0d7fa64de2a6')}, 'run_id': 'd11c837f-9147-417e-be07-0d7fa64de2a6', 'name': 'ChatGroq', 'tags': ['seq:step:1'], 'metadata': {'thread_id': '6', 'langgraph_step': 1, 'langgraph_node': 'superbot', 'langgraph_triggers': ('branch:to:superbot',), 'langgraph_path': ('__pregel_pull', 'superbot'), 'langgraph_checkpoint_ns': 'superbot:9626f236-0292-4936-54e9-8b3a6a6651b4', 'checkpoint_ns': 'superbot:9626f236-0292-4936-54e9-8b3a6a6651b4', 'ls_provider': 'groq', 'ls_model_name': 'llama-3.1-8b-instant', 'ls_model_type': 'chat', 'ls_temperature': 0.7}, 'parent_ids': ['2a10730d-6c3e-4e51-bdfc-d12150f3a5e1', '162ddcf1-12df-4a27-b69a-156df673100d']}\n",
      "{'event': 'on_chat_model_stream', 'data': {'chunk': AIMessageChunk(content='', additional_kwargs={}, response_metadata={'finish_reason': 'stop', 'model_name': 'llama-3.1-8b-instant', 'system_fingerprint': 'fp_0f5c9bc037'}, id='run--d11c837f-9147-417e-be07-0d7fa64de2a6', usage_metadata={'input_tokens': 48, 'output_tokens': 50, 'total_tokens': 98})}, 'run_id': 'd11c837f-9147-417e-be07-0d7fa64de2a6', 'name': 'ChatGroq', 'tags': ['seq:step:1'], 'metadata': {'thread_id': '6', 'langgraph_step': 1, 'langgraph_node': 'superbot', 'langgraph_triggers': ('branch:to:superbot',), 'langgraph_path': ('__pregel_pull', 'superbot'), 'langgraph_checkpoint_ns': 'superbot:9626f236-0292-4936-54e9-8b3a6a6651b4', 'checkpoint_ns': 'superbot:9626f236-0292-4936-54e9-8b3a6a6651b4', 'ls_provider': 'groq', 'ls_model_name': 'llama-3.1-8b-instant', 'ls_model_type': 'chat', 'ls_temperature': 0.7}, 'parent_ids': ['2a10730d-6c3e-4e51-bdfc-d12150f3a5e1', '162ddcf1-12df-4a27-b69a-156df673100d']}\n",
      "{'event': 'on_chat_model_end', 'data': {'output': AIMessage(content=\"Hi Dheeraj, nice to meet you. That's great to hear that you like badminton. It's a fantastic sport that requires skill, strategy, and physical fitness. Are you an avid player or just a casual enthusiast?\", additional_kwargs={}, response_metadata={'finish_reason': 'stop', 'model_name': 'llama-3.1-8b-instant', 'system_fingerprint': 'fp_0f5c9bc037'}, id='run--d11c837f-9147-417e-be07-0d7fa64de2a6', usage_metadata={'input_tokens': 48, 'output_tokens': 50, 'total_tokens': 98}), 'input': {'messages': [[HumanMessage(content='hi my name is dheeraj and i like badminton', additional_kwargs={}, response_metadata={}, id='455c9f66-1a13-4e18-b87f-3c9130d60224')]]}}, 'run_id': 'd11c837f-9147-417e-be07-0d7fa64de2a6', 'name': 'ChatGroq', 'tags': ['seq:step:1'], 'metadata': {'thread_id': '6', 'langgraph_step': 1, 'langgraph_node': 'superbot', 'langgraph_triggers': ('branch:to:superbot',), 'langgraph_path': ('__pregel_pull', 'superbot'), 'langgraph_checkpoint_ns': 'superbot:9626f236-0292-4936-54e9-8b3a6a6651b4', 'checkpoint_ns': 'superbot:9626f236-0292-4936-54e9-8b3a6a6651b4', 'ls_provider': 'groq', 'ls_model_name': 'llama-3.1-8b-instant', 'ls_model_type': 'chat', 'ls_temperature': 0.7}, 'parent_ids': ['2a10730d-6c3e-4e51-bdfc-d12150f3a5e1', '162ddcf1-12df-4a27-b69a-156df673100d']}\n",
      "{'event': 'on_chain_stream', 'run_id': '162ddcf1-12df-4a27-b69a-156df673100d', 'name': 'superbot', 'tags': ['graph:step:1'], 'metadata': {'thread_id': '6', 'langgraph_step': 1, 'langgraph_node': 'superbot', 'langgraph_triggers': ('branch:to:superbot',), 'langgraph_path': ('__pregel_pull', 'superbot'), 'langgraph_checkpoint_ns': 'superbot:9626f236-0292-4936-54e9-8b3a6a6651b4'}, 'data': {'chunk': {'messages': [AIMessage(content=\"Hi Dheeraj, nice to meet you. That's great to hear that you like badminton. It's a fantastic sport that requires skill, strategy, and physical fitness. Are you an avid player or just a casual enthusiast?\", additional_kwargs={}, response_metadata={'finish_reason': 'stop', 'model_name': 'llama-3.1-8b-instant', 'system_fingerprint': 'fp_0f5c9bc037'}, id='run--d11c837f-9147-417e-be07-0d7fa64de2a6', usage_metadata={'input_tokens': 48, 'output_tokens': 50, 'total_tokens': 98})]}}, 'parent_ids': ['2a10730d-6c3e-4e51-bdfc-d12150f3a5e1']}\n",
      "{'event': 'on_chain_end', 'data': {'output': {'messages': [AIMessage(content=\"Hi Dheeraj, nice to meet you. That's great to hear that you like badminton. It's a fantastic sport that requires skill, strategy, and physical fitness. Are you an avid player or just a casual enthusiast?\", additional_kwargs={}, response_metadata={'finish_reason': 'stop', 'model_name': 'llama-3.1-8b-instant', 'system_fingerprint': 'fp_0f5c9bc037'}, id='run--d11c837f-9147-417e-be07-0d7fa64de2a6', usage_metadata={'input_tokens': 48, 'output_tokens': 50, 'total_tokens': 98})]}, 'input': {'messages': [HumanMessage(content='hi my name is dheeraj and i like badminton', additional_kwargs={}, response_metadata={}, id='455c9f66-1a13-4e18-b87f-3c9130d60224')]}}, 'run_id': '162ddcf1-12df-4a27-b69a-156df673100d', 'name': 'superbot', 'tags': ['graph:step:1'], 'metadata': {'thread_id': '6', 'langgraph_step': 1, 'langgraph_node': 'superbot', 'langgraph_triggers': ('branch:to:superbot',), 'langgraph_path': ('__pregel_pull', 'superbot'), 'langgraph_checkpoint_ns': 'superbot:9626f236-0292-4936-54e9-8b3a6a6651b4'}, 'parent_ids': ['2a10730d-6c3e-4e51-bdfc-d12150f3a5e1']}\n",
      "{'event': 'on_chain_stream', 'run_id': '2a10730d-6c3e-4e51-bdfc-d12150f3a5e1', 'name': 'LangGraph', 'tags': [], 'metadata': {'thread_id': '6'}, 'data': {'chunk': {'superbot': {'messages': [AIMessage(content=\"Hi Dheeraj, nice to meet you. That's great to hear that you like badminton. It's a fantastic sport that requires skill, strategy, and physical fitness. Are you an avid player or just a casual enthusiast?\", additional_kwargs={}, response_metadata={'finish_reason': 'stop', 'model_name': 'llama-3.1-8b-instant', 'system_fingerprint': 'fp_0f5c9bc037'}, id='run--d11c837f-9147-417e-be07-0d7fa64de2a6', usage_metadata={'input_tokens': 48, 'output_tokens': 50, 'total_tokens': 98})]}}}, 'parent_ids': []}\n",
      "{'event': 'on_chain_end', 'data': {'output': {'messages': [HumanMessage(content='hi my name is dheeraj and i like badminton', additional_kwargs={}, response_metadata={}, id='455c9f66-1a13-4e18-b87f-3c9130d60224'), AIMessage(content=\"Hi Dheeraj, nice to meet you. That's great to hear that you like badminton. It's a fantastic sport that requires skill, strategy, and physical fitness. Are you an avid player or just a casual enthusiast?\", additional_kwargs={}, response_metadata={'finish_reason': 'stop', 'model_name': 'llama-3.1-8b-instant', 'system_fingerprint': 'fp_0f5c9bc037'}, id='run--d11c837f-9147-417e-be07-0d7fa64de2a6', usage_metadata={'input_tokens': 48, 'output_tokens': 50, 'total_tokens': 98})]}}, 'run_id': '2a10730d-6c3e-4e51-bdfc-d12150f3a5e1', 'name': 'LangGraph', 'tags': [], 'metadata': {'thread_id': '6'}, 'parent_ids': []}\n"
     ]
    }
   ],
   "source": [
    "config ={\"configurable\":{\"thread_id\":\"6\"}}\n",
    "\n",
    "async for chunk in graph_builder.astream_events({\"messages\":\"hi my name is dheeraj and i like badminton\"},config,version=\"v2\"):\n",
    "    print(chunk)"
   ]
  },
  {
   "cell_type": "code",
   "execution_count": null,
   "id": "8045a93e",
   "metadata": {},
   "outputs": [],
   "source": []
  }
 ],
 "metadata": {
  "kernelspec": {
   "display_name": "agenetic ai",
   "language": "python",
   "name": "python3"
  },
  "language_info": {
   "codemirror_mode": {
    "name": "ipython",
    "version": 3
   },
   "file_extension": ".py",
   "mimetype": "text/x-python",
   "name": "python",
   "nbconvert_exporter": "python",
   "pygments_lexer": "ipython3",
   "version": "3.11.6"
  }
 },
 "nbformat": 4,
 "nbformat_minor": 5
}
